{
  "nbformat": 4,
  "nbformat_minor": 0,
  "metadata": {
    "colab": {
      "provenance": []
    },
    "kernelspec": {
      "name": "python3",
      "display_name": "Python 3"
    },
    "language_info": {
      "name": "python"
    },
    "widgets": {
      "application/vnd.jupyter.widget-state+json": {
        "e22bf91a8ebe4f93b1305f5db3210df6": {
          "model_module": "jupyter-leaflet",
          "model_name": "LeafletTileLayerModel",
          "model_module_version": "^0.16.0",
          "state": {
            "_model_module": "jupyter-leaflet",
            "_model_module_version": "^0.16.0",
            "_model_name": "LeafletTileLayerModel",
            "_view_count": null,
            "_view_module": "jupyter-leaflet",
            "_view_module_version": "^0.16.0",
            "_view_name": "LeafletTileLayerView",
            "attribution": "Google",
            "base": false,
            "bottom": true,
            "bounds": null,
            "detect_retina": false,
            "loading": false,
            "max_native_zoom": 18,
            "max_zoom": 22,
            "min_native_zoom": 0,
            "min_zoom": 0,
            "name": "Google Maps",
            "no_wrap": false,
            "opacity": 1,
            "options": [
              "attribution",
              "bounds",
              "detect_retina",
              "max_native_zoom",
              "max_zoom",
              "min_native_zoom",
              "min_zoom",
              "no_wrap",
              "tile_size",
              "tms"
            ],
            "popup": null,
            "popup_max_height": null,
            "popup_max_width": 300,
            "popup_min_width": 50,
            "show_loading": false,
            "tile_size": 256,
            "tms": false,
            "url": "https://mt1.google.com/vt/lyrs=m&x={x}&y={y}&z={z}",
            "visible": true
          }
        },
        "f943710e28434611b4badf0cbc9d2519": {
          "model_module": "jupyter-leaflet",
          "model_name": "LeafletTileLayerModel",
          "model_module_version": "^0.16.0",
          "state": {
            "_model_module": "jupyter-leaflet",
            "_model_module_version": "^0.16.0",
            "_model_name": "LeafletTileLayerModel",
            "_view_count": null,
            "_view_module": "jupyter-leaflet",
            "_view_module_version": "^0.16.0",
            "_view_name": "LeafletTileLayerView",
            "attribution": "Google",
            "base": false,
            "bottom": true,
            "bounds": null,
            "detect_retina": false,
            "loading": false,
            "max_native_zoom": 18,
            "max_zoom": 22,
            "min_native_zoom": 0,
            "min_zoom": 0,
            "name": "Google Satellite",
            "no_wrap": false,
            "opacity": 1,
            "options": [
              "attribution",
              "bounds",
              "detect_retina",
              "max_native_zoom",
              "max_zoom",
              "min_native_zoom",
              "min_zoom",
              "no_wrap",
              "tile_size",
              "tms"
            ],
            "popup": null,
            "popup_max_height": null,
            "popup_max_width": 300,
            "popup_min_width": 50,
            "show_loading": false,
            "tile_size": 256,
            "tms": false,
            "url": "https://mt1.google.com/vt/lyrs=s&x={x}&y={y}&z={z}",
            "visible": true
          }
        },
        "86eb9af251ca48da8c07a61f822df2a4": {
          "model_module": "jupyter-leaflet",
          "model_name": "LeafletMapModel",
          "model_module_version": "^0.16.0",
          "state": {
            "_dom_classes": [],
            "_model_module": "jupyter-leaflet",
            "_model_module_version": "^0.16.0",
            "_model_name": "LeafletMapModel",
            "_view_count": null,
            "_view_module": "jupyter-leaflet",
            "_view_module_version": "^0.16.0",
            "_view_name": "LeafletMapView",
            "bottom": 216778.66662597656,
            "bounce_at_zoom_limits": true,
            "box_zoom": true,
            "center": [
              29.898599316372554,
              -95.57119642657442
            ],
            "close_popup_on_click": true,
            "controls": [
              "IPY_MODEL_fe5e0cbfb0f64bf682a5904403f5f815",
              "IPY_MODEL_827104d714d1497f8d2e1d2a14bfcde5",
              "IPY_MODEL_447a7b2b8ebb4b369a9e71804c5c1db2",
              "IPY_MODEL_2a9bdd21778b420aad60dbeb6840c90d",
              "IPY_MODEL_e613636bafa049e8803e69dba763cbd2",
              "IPY_MODEL_851378c1bb2d4b49a9589b09b10c6ab7",
              "IPY_MODEL_1f140464b8d84e1eb7432ce65e5611f3",
              "IPY_MODEL_01c4824996174e9d997675e274597dc7"
            ],
            "crs": {
              "name": "EPSG3857",
              "custom": false
            },
            "default_style": "IPY_MODEL_24fb7c2214b646059bc37b1bf1cde611",
            "double_click_zoom": true,
            "dragging": true,
            "dragging_style": "IPY_MODEL_1fd646592f7045f9a16a07d8cea23bc6",
            "east": -95.35696302813692,
            "fullscreen": false,
            "inertia": true,
            "inertia_deceleration": 3000,
            "inertia_max_speed": 1500,
            "interpolation": "bilinear",
            "keyboard": true,
            "keyboard_pan_offset": 80,
            "keyboard_zoom_offset": 1,
            "layers": [
              "IPY_MODEL_dca36dad43794188b36fcce3dee33cc0",
              "IPY_MODEL_e22bf91a8ebe4f93b1305f5db3210df6",
              "IPY_MODEL_f943710e28434611b4badf0cbc9d2519",
              "IPY_MODEL_df4444bb4cf0446d86b9ba70913050db"
            ],
            "layout": "IPY_MODEL_9f118e93e52242b7bcc83fbee7844eb0",
            "left": 122646.35713306713,
            "max_zoom": 24,
            "min_zoom": 1,
            "modisdate": "2022-05-05",
            "north": 30.077016844789565,
            "options": [
              "bounce_at_zoom_limits",
              "box_zoom",
              "center",
              "close_popup_on_click",
              "double_click_zoom",
              "dragging",
              "fullscreen",
              "inertia",
              "inertia_deceleration",
              "inertia_max_speed",
              "interpolation",
              "keyboard",
              "keyboard_pan_offset",
              "keyboard_zoom_offset",
              "max_zoom",
              "min_zoom",
              "prefer_canvas",
              "scroll_wheel_zoom",
              "tap",
              "tap_tolerance",
              "touch_zoom",
              "world_copy_jump",
              "zoom",
              "zoom_animation_threshold",
              "zoom_delta",
              "zoom_snap",
              "zoom_start"
            ],
            "prefer_canvas": false,
            "right": 123270.35713306713,
            "scroll_wheel_zoom": true,
            "south": 29.719861756329458,
            "style": "IPY_MODEL_24fb7c2214b646059bc37b1bf1cde611",
            "tap": true,
            "tap_tolerance": 15,
            "top": 216178.66662597656,
            "touch_zoom": true,
            "west": -95.78542982501192,
            "window_url": "https://u08wsrr3aef-496ff2e9c6d22116-0-colab.googleusercontent.com/outputframe.html?vrz=colab-20220504-060046-RC00_446421109",
            "world_copy_jump": false,
            "zoom": 11,
            "zoom_animation_threshold": 4,
            "zoom_delta": 1,
            "zoom_snap": 1,
            "zoom_start": 12,
            "_dragging": false
          }
        },
        "fe5e0cbfb0f64bf682a5904403f5f815": {
          "model_module": "jupyter-leaflet",
          "model_name": "LeafletWidgetControlModel",
          "model_module_version": "^0.16.0",
          "state": {
            "_model_module": "jupyter-leaflet",
            "_model_module_version": "^0.16.0",
            "_model_name": "LeafletWidgetControlModel",
            "_view_count": null,
            "_view_module": "jupyter-leaflet",
            "_view_module_version": "^0.16.0",
            "_view_name": "LeafletWidgetControlView",
            "max_height": null,
            "max_width": null,
            "min_height": null,
            "min_width": null,
            "options": [
              "position",
              "transparent_bg"
            ],
            "position": "topleft",
            "transparent_bg": false,
            "widget": "IPY_MODEL_422c334f585c4bf0b56bb6b3b84d2f04"
          }
        },
        "827104d714d1497f8d2e1d2a14bfcde5": {
          "model_module": "jupyter-leaflet",
          "model_name": "LeafletZoomControlModel",
          "model_module_version": "^0.16.0",
          "state": {
            "_model_module": "jupyter-leaflet",
            "_model_module_version": "^0.16.0",
            "_model_name": "LeafletZoomControlModel",
            "_view_count": null,
            "_view_module": "jupyter-leaflet",
            "_view_module_version": "^0.16.0",
            "_view_name": "LeafletZoomControlView",
            "options": [
              "position",
              "zoom_in_text",
              "zoom_in_title",
              "zoom_out_text",
              "zoom_out_title"
            ],
            "position": "topleft",
            "zoom_in_text": "+",
            "zoom_in_title": "Zoom in",
            "zoom_out_text": "-",
            "zoom_out_title": "Zoom out"
          }
        },
        "447a7b2b8ebb4b369a9e71804c5c1db2": {
          "model_module": "jupyter-leaflet",
          "model_name": "LeafletScaleControlModel",
          "model_module_version": "^0.16.0",
          "state": {
            "_model_module": "jupyter-leaflet",
            "_model_module_version": "^0.16.0",
            "_model_name": "LeafletScaleControlModel",
            "_view_count": null,
            "_view_module": "jupyter-leaflet",
            "_view_module_version": "^0.16.0",
            "_view_name": "LeafletScaleControlView",
            "imperial": true,
            "max_width": 100,
            "metric": true,
            "options": [
              "imperial",
              "max_width",
              "metric",
              "position",
              "update_when_idle"
            ],
            "position": "bottomleft",
            "update_when_idle": false
          }
        },
        "2a9bdd21778b420aad60dbeb6840c90d": {
          "model_module": "jupyter-leaflet",
          "model_name": "LeafletFullScreenControlModel",
          "model_module_version": "^0.16.0",
          "state": {
            "_model_module": "jupyter-leaflet",
            "_model_module_version": "^0.16.0",
            "_model_name": "LeafletFullScreenControlModel",
            "_view_count": null,
            "_view_module": "jupyter-leaflet",
            "_view_module_version": "^0.16.0",
            "_view_name": "LeafletFullScreenControlView",
            "options": [
              "position"
            ],
            "position": "topleft"
          }
        },
        "e613636bafa049e8803e69dba763cbd2": {
          "model_module": "jupyter-leaflet",
          "model_name": "LeafletMeasureControlModel",
          "model_module_version": "^0.16.0",
          "state": {
            "_custom_units": {},
            "_model_module": "jupyter-leaflet",
            "_model_module_version": "^0.16.0",
            "_model_name": "LeafletMeasureControlModel",
            "_view_count": null,
            "_view_module": "jupyter-leaflet",
            "_view_module_version": "^0.16.0",
            "_view_name": "LeafletMeasureControlView",
            "active_color": "orange",
            "capture_z_index": 10000,
            "completed_color": "#C8F2BE",
            "options": [
              "active_color",
              "capture_z_index",
              "completed_color",
              "popup_options",
              "position",
              "primary_area_unit",
              "primary_length_unit",
              "secondary_area_unit",
              "secondary_length_unit"
            ],
            "popup_options": {
              "className": "leaflet-measure-resultpopup",
              "autoPanPadding": [
                10,
                10
              ]
            },
            "position": "bottomleft",
            "primary_area_unit": "acres",
            "primary_length_unit": "kilometers",
            "secondary_area_unit": null,
            "secondary_length_unit": null
          }
        },
        "851378c1bb2d4b49a9589b09b10c6ab7": {
          "model_module": "jupyter-leaflet",
          "model_name": "LeafletAttributionControlModel",
          "model_module_version": "^0.16.0",
          "state": {
            "_model_module": "jupyter-leaflet",
            "_model_module_version": "^0.16.0",
            "_model_name": "LeafletAttributionControlModel",
            "_view_count": null,
            "_view_module": "jupyter-leaflet",
            "_view_module_version": "^0.16.0",
            "_view_name": "LeafletAttributionControlView",
            "options": [
              "position",
              "prefix"
            ],
            "position": "bottomright",
            "prefix": "ipyleaflet"
          }
        },
        "1f140464b8d84e1eb7432ce65e5611f3": {
          "model_module": "jupyter-leaflet",
          "model_name": "LeafletDrawControlModel",
          "model_module_version": "^0.16.0",
          "state": {
            "_model_module": "jupyter-leaflet",
            "_model_module_version": "^0.16.0",
            "_model_name": "LeafletDrawControlModel",
            "_view_count": null,
            "_view_module": "jupyter-leaflet",
            "_view_module_version": "^0.16.0",
            "_view_name": "LeafletDrawControlView",
            "circle": {
              "shapeOptions": {
                "color": "#3388ff"
              }
            },
            "circlemarker": {},
            "data": [],
            "edit": true,
            "marker": {
              "shapeOptions": {
                "color": "#3388ff"
              }
            },
            "options": [
              "position"
            ],
            "polygon": {
              "shapeOptions": {}
            },
            "polyline": {
              "shapeOptions": {}
            },
            "position": "topleft",
            "rectangle": {
              "shapeOptions": {
                "color": "#3388ff"
              }
            },
            "remove": true
          }
        },
        "01c4824996174e9d997675e274597dc7": {
          "model_module": "jupyter-leaflet",
          "model_name": "LeafletWidgetControlModel",
          "model_module_version": "^0.16.0",
          "state": {
            "_model_module": "jupyter-leaflet",
            "_model_module_version": "^0.16.0",
            "_model_name": "LeafletWidgetControlModel",
            "_view_count": null,
            "_view_module": "jupyter-leaflet",
            "_view_module_version": "^0.16.0",
            "_view_name": "LeafletWidgetControlView",
            "max_height": null,
            "max_width": null,
            "min_height": null,
            "min_width": null,
            "options": [
              "position",
              "transparent_bg"
            ],
            "position": "topright",
            "transparent_bg": false,
            "widget": "IPY_MODEL_96cb357e41c14bb3a60e6c104c5faa84"
          }
        },
        "24fb7c2214b646059bc37b1bf1cde611": {
          "model_module": "jupyter-leaflet",
          "model_name": "LeafletMapStyleModel",
          "model_module_version": "^0.16.0",
          "state": {
            "_model_module": "jupyter-leaflet",
            "_model_module_version": "^0.16.0",
            "_model_name": "LeafletMapStyleModel",
            "_view_count": null,
            "_view_module": "@jupyter-widgets/base",
            "_view_module_version": "1.2.0",
            "_view_name": "StyleView",
            "cursor": "grab"
          }
        },
        "1fd646592f7045f9a16a07d8cea23bc6": {
          "model_module": "jupyter-leaflet",
          "model_name": "LeafletMapStyleModel",
          "model_module_version": "^0.16.0",
          "state": {
            "_model_module": "jupyter-leaflet",
            "_model_module_version": "^0.16.0",
            "_model_name": "LeafletMapStyleModel",
            "_view_count": null,
            "_view_module": "@jupyter-widgets/base",
            "_view_module_version": "1.2.0",
            "_view_name": "StyleView",
            "cursor": "move"
          }
        },
        "dca36dad43794188b36fcce3dee33cc0": {
          "model_module": "jupyter-leaflet",
          "model_name": "LeafletTileLayerModel",
          "model_module_version": "^0.16.0",
          "state": {
            "_model_module": "jupyter-leaflet",
            "_model_module_version": "^0.16.0",
            "_model_name": "LeafletTileLayerModel",
            "_view_count": null,
            "_view_module": "jupyter-leaflet",
            "_view_module_version": "^0.16.0",
            "_view_name": "LeafletTileLayerView",
            "attribution": "&copy; <a href=\"https://www.openstreetmap.org/copyright\">OpenStreetMap</a> contributors",
            "base": true,
            "bottom": true,
            "bounds": null,
            "detect_retina": false,
            "loading": false,
            "max_native_zoom": 18,
            "max_zoom": 19,
            "min_native_zoom": 0,
            "min_zoom": 1,
            "name": "OpenStreetMap.Mapnik",
            "no_wrap": false,
            "opacity": 1,
            "options": [
              "attribution",
              "bounds",
              "detect_retina",
              "max_native_zoom",
              "max_zoom",
              "min_native_zoom",
              "min_zoom",
              "no_wrap",
              "tile_size",
              "tms"
            ],
            "popup": null,
            "popup_max_height": null,
            "popup_max_width": 300,
            "popup_min_width": 50,
            "show_loading": false,
            "tile_size": 256,
            "tms": false,
            "url": "https://a.tile.openstreetmap.org/{z}/{x}/{y}.png",
            "visible": true
          }
        },
        "9f118e93e52242b7bcc83fbee7844eb0": {
          "model_module": "@jupyter-widgets/base",
          "model_name": "LayoutModel",
          "model_module_version": "1.2.0",
          "state": {
            "_model_module": "@jupyter-widgets/base",
            "_model_module_version": "1.2.0",
            "_model_name": "LayoutModel",
            "_view_count": null,
            "_view_module": "@jupyter-widgets/base",
            "_view_module_version": "1.2.0",
            "_view_name": "LayoutView",
            "align_content": null,
            "align_items": null,
            "align_self": null,
            "border": null,
            "bottom": null,
            "display": null,
            "flex": null,
            "flex_flow": null,
            "grid_area": null,
            "grid_auto_columns": null,
            "grid_auto_flow": null,
            "grid_auto_rows": null,
            "grid_column": null,
            "grid_gap": null,
            "grid_row": null,
            "grid_template_areas": null,
            "grid_template_columns": null,
            "grid_template_rows": null,
            "height": "600px",
            "justify_content": null,
            "justify_items": null,
            "left": null,
            "margin": null,
            "max_height": null,
            "max_width": null,
            "min_height": null,
            "min_width": null,
            "object_fit": null,
            "object_position": null,
            "order": null,
            "overflow": null,
            "overflow_x": null,
            "overflow_y": null,
            "padding": null,
            "right": null,
            "top": null,
            "visibility": null,
            "width": null
          }
        },
        "c3b976309a81401994f7d0e139eab5d9": {
          "model_module": "jupyter-leaflet",
          "model_name": "LeafletMapStyleModel",
          "model_module_version": "^0.16.0",
          "state": {
            "_model_module": "jupyter-leaflet",
            "_model_module_version": "^0.16.0",
            "_model_name": "LeafletMapStyleModel",
            "_view_count": null,
            "_view_module": "@jupyter-widgets/base",
            "_view_module_version": "1.2.0",
            "_view_name": "StyleView",
            "cursor": "grab"
          }
        },
        "422c334f585c4bf0b56bb6b3b84d2f04": {
          "model_module": "@jupyter-widgets/controls",
          "model_name": "HBoxModel",
          "model_module_version": "1.5.0",
          "state": {
            "_dom_classes": [],
            "_model_module": "@jupyter-widgets/controls",
            "_model_module_version": "1.5.0",
            "_model_name": "HBoxModel",
            "_view_count": null,
            "_view_module": "@jupyter-widgets/controls",
            "_view_module_version": "1.5.0",
            "_view_name": "HBoxView",
            "box_style": "",
            "children": [
              "IPY_MODEL_e2d259c5b1074b2daa6d1f32da1c5ace"
            ],
            "layout": "IPY_MODEL_40ab5d20b05a42dc9c81e292482355e0"
          }
        },
        "96cb357e41c14bb3a60e6c104c5faa84": {
          "model_module": "@jupyter-widgets/controls",
          "model_name": "VBoxModel",
          "model_module_version": "1.5.0",
          "state": {
            "_dom_classes": [],
            "_model_module": "@jupyter-widgets/controls",
            "_model_module_version": "1.5.0",
            "_model_name": "VBoxModel",
            "_view_count": null,
            "_view_module": "@jupyter-widgets/controls",
            "_view_module_version": "1.5.0",
            "_view_name": "VBoxView",
            "box_style": "",
            "children": [
              "IPY_MODEL_d6f3768df4f642eb8f5b10def543e70d"
            ],
            "layout": "IPY_MODEL_bcf0f7da815c42d3ba0fb59c56178ec4"
          }
        },
        "e2d259c5b1074b2daa6d1f32da1c5ace": {
          "model_module": "@jupyter-widgets/controls",
          "model_name": "ToggleButtonModel",
          "model_module_version": "1.5.0",
          "state": {
            "_dom_classes": [],
            "_model_module": "@jupyter-widgets/controls",
            "_model_module_version": "1.5.0",
            "_model_name": "ToggleButtonModel",
            "_view_count": null,
            "_view_module": "@jupyter-widgets/controls",
            "_view_module_version": "1.5.0",
            "_view_name": "ToggleButtonView",
            "button_style": "",
            "description": "",
            "description_tooltip": null,
            "disabled": false,
            "icon": "globe",
            "layout": "IPY_MODEL_89c019b47f2c41e5b922fe69d6de2207",
            "style": "IPY_MODEL_d6f7a057fd02409789ecdcedfcbab9db",
            "tooltip": "Search location/data",
            "value": false
          }
        },
        "40ab5d20b05a42dc9c81e292482355e0": {
          "model_module": "@jupyter-widgets/base",
          "model_name": "LayoutModel",
          "model_module_version": "1.2.0",
          "state": {
            "_model_module": "@jupyter-widgets/base",
            "_model_module_version": "1.2.0",
            "_model_name": "LayoutModel",
            "_view_count": null,
            "_view_module": "@jupyter-widgets/base",
            "_view_module_version": "1.2.0",
            "_view_name": "LayoutView",
            "align_content": null,
            "align_items": null,
            "align_self": null,
            "border": null,
            "bottom": null,
            "display": null,
            "flex": null,
            "flex_flow": null,
            "grid_area": null,
            "grid_auto_columns": null,
            "grid_auto_flow": null,
            "grid_auto_rows": null,
            "grid_column": null,
            "grid_gap": null,
            "grid_row": null,
            "grid_template_areas": null,
            "grid_template_columns": null,
            "grid_template_rows": null,
            "height": null,
            "justify_content": null,
            "justify_items": null,
            "left": null,
            "margin": null,
            "max_height": null,
            "max_width": null,
            "min_height": null,
            "min_width": null,
            "object_fit": null,
            "object_position": null,
            "order": null,
            "overflow": null,
            "overflow_x": null,
            "overflow_y": null,
            "padding": null,
            "right": null,
            "top": null,
            "visibility": null,
            "width": null
          }
        },
        "d6f3768df4f642eb8f5b10def543e70d": {
          "model_module": "@jupyter-widgets/controls",
          "model_name": "ToggleButtonModel",
          "model_module_version": "1.5.0",
          "state": {
            "_dom_classes": [],
            "_model_module": "@jupyter-widgets/controls",
            "_model_module_version": "1.5.0",
            "_model_name": "ToggleButtonModel",
            "_view_count": null,
            "_view_module": "@jupyter-widgets/controls",
            "_view_module_version": "1.5.0",
            "_view_name": "ToggleButtonView",
            "button_style": "",
            "description": "",
            "description_tooltip": null,
            "disabled": false,
            "icon": "wrench",
            "layout": "IPY_MODEL_2a4c427afb814cecbdb68059f3907231",
            "style": "IPY_MODEL_58c1bb4263604767ac03de2f0de9fa89",
            "tooltip": "Toolbar",
            "value": false
          }
        },
        "bcf0f7da815c42d3ba0fb59c56178ec4": {
          "model_module": "@jupyter-widgets/base",
          "model_name": "LayoutModel",
          "model_module_version": "1.2.0",
          "state": {
            "_model_module": "@jupyter-widgets/base",
            "_model_module_version": "1.2.0",
            "_model_name": "LayoutModel",
            "_view_count": null,
            "_view_module": "@jupyter-widgets/base",
            "_view_module_version": "1.2.0",
            "_view_name": "LayoutView",
            "align_content": null,
            "align_items": null,
            "align_self": null,
            "border": null,
            "bottom": null,
            "display": null,
            "flex": null,
            "flex_flow": null,
            "grid_area": null,
            "grid_auto_columns": null,
            "grid_auto_flow": null,
            "grid_auto_rows": null,
            "grid_column": null,
            "grid_gap": null,
            "grid_row": null,
            "grid_template_areas": null,
            "grid_template_columns": null,
            "grid_template_rows": null,
            "height": null,
            "justify_content": null,
            "justify_items": null,
            "left": null,
            "margin": null,
            "max_height": null,
            "max_width": null,
            "min_height": null,
            "min_width": null,
            "object_fit": null,
            "object_position": null,
            "order": null,
            "overflow": null,
            "overflow_x": null,
            "overflow_y": null,
            "padding": null,
            "right": null,
            "top": null,
            "visibility": null,
            "width": null
          }
        },
        "89c019b47f2c41e5b922fe69d6de2207": {
          "model_module": "@jupyter-widgets/base",
          "model_name": "LayoutModel",
          "model_module_version": "1.2.0",
          "state": {
            "_model_module": "@jupyter-widgets/base",
            "_model_module_version": "1.2.0",
            "_model_name": "LayoutModel",
            "_view_count": null,
            "_view_module": "@jupyter-widgets/base",
            "_view_module_version": "1.2.0",
            "_view_name": "LayoutView",
            "align_content": null,
            "align_items": null,
            "align_self": null,
            "border": null,
            "bottom": null,
            "display": null,
            "flex": null,
            "flex_flow": null,
            "grid_area": null,
            "grid_auto_columns": null,
            "grid_auto_flow": null,
            "grid_auto_rows": null,
            "grid_column": null,
            "grid_gap": null,
            "grid_row": null,
            "grid_template_areas": null,
            "grid_template_columns": null,
            "grid_template_rows": null,
            "height": "28px",
            "justify_content": null,
            "justify_items": null,
            "left": null,
            "margin": null,
            "max_height": null,
            "max_width": null,
            "min_height": null,
            "min_width": null,
            "object_fit": null,
            "object_position": null,
            "order": null,
            "overflow": null,
            "overflow_x": null,
            "overflow_y": null,
            "padding": "0px 0px 0px 4px",
            "right": null,
            "top": null,
            "visibility": null,
            "width": "28px"
          }
        },
        "d6f7a057fd02409789ecdcedfcbab9db": {
          "model_module": "@jupyter-widgets/controls",
          "model_name": "DescriptionStyleModel",
          "model_module_version": "1.5.0",
          "state": {
            "_model_module": "@jupyter-widgets/controls",
            "_model_module_version": "1.5.0",
            "_model_name": "DescriptionStyleModel",
            "_view_count": null,
            "_view_module": "@jupyter-widgets/base",
            "_view_module_version": "1.2.0",
            "_view_name": "StyleView",
            "description_width": ""
          }
        },
        "2a4c427afb814cecbdb68059f3907231": {
          "model_module": "@jupyter-widgets/base",
          "model_name": "LayoutModel",
          "model_module_version": "1.2.0",
          "state": {
            "_model_module": "@jupyter-widgets/base",
            "_model_module_version": "1.2.0",
            "_model_name": "LayoutModel",
            "_view_count": null,
            "_view_module": "@jupyter-widgets/base",
            "_view_module_version": "1.2.0",
            "_view_name": "LayoutView",
            "align_content": null,
            "align_items": null,
            "align_self": null,
            "border": null,
            "bottom": null,
            "display": null,
            "flex": null,
            "flex_flow": null,
            "grid_area": null,
            "grid_auto_columns": null,
            "grid_auto_flow": null,
            "grid_auto_rows": null,
            "grid_column": null,
            "grid_gap": null,
            "grid_row": null,
            "grid_template_areas": null,
            "grid_template_columns": null,
            "grid_template_rows": null,
            "height": "28px",
            "justify_content": null,
            "justify_items": null,
            "left": null,
            "margin": null,
            "max_height": null,
            "max_width": null,
            "min_height": null,
            "min_width": null,
            "object_fit": null,
            "object_position": null,
            "order": null,
            "overflow": null,
            "overflow_x": null,
            "overflow_y": null,
            "padding": "0px 0px 0px 4px",
            "right": null,
            "top": null,
            "visibility": null,
            "width": "28px"
          }
        },
        "58c1bb4263604767ac03de2f0de9fa89": {
          "model_module": "@jupyter-widgets/controls",
          "model_name": "DescriptionStyleModel",
          "model_module_version": "1.5.0",
          "state": {
            "_model_module": "@jupyter-widgets/controls",
            "_model_module_version": "1.5.0",
            "_model_name": "DescriptionStyleModel",
            "_view_count": null,
            "_view_module": "@jupyter-widgets/base",
            "_view_module_version": "1.2.0",
            "_view_name": "StyleView",
            "description_width": ""
          }
        },
        "df4444bb4cf0446d86b9ba70913050db": {
          "model_module": "jupyter-leaflet",
          "model_name": "LeafletTileLayerModel",
          "model_module_version": "^0.16.0",
          "state": {
            "_model_module": "jupyter-leaflet",
            "_model_module_version": "^0.16.0",
            "_model_name": "LeafletTileLayerModel",
            "_view_count": null,
            "_view_module": "jupyter-leaflet",
            "_view_module_version": "^0.16.0",
            "_view_name": "LeafletTileLayerView",
            "attribution": "Google Earth Engine",
            "base": false,
            "bottom": true,
            "bounds": null,
            "detect_retina": false,
            "loading": false,
            "max_native_zoom": 18,
            "max_zoom": 24,
            "min_native_zoom": 0,
            "min_zoom": 0,
            "name": "NDVI",
            "no_wrap": false,
            "opacity": 1,
            "options": [
              "attribution",
              "bounds",
              "detect_retina",
              "max_native_zoom",
              "max_zoom",
              "min_native_zoom",
              "min_zoom",
              "no_wrap",
              "tile_size",
              "tms"
            ],
            "popup": null,
            "popup_max_height": null,
            "popup_max_width": 300,
            "popup_min_width": 50,
            "show_loading": false,
            "tile_size": 256,
            "tms": false,
            "url": "https://earthengine.googleapis.com/v1alpha/projects/earthengine-legacy/maps/d4b5a21343e501b9a4404b068e8d3c62-fb18943fae1205e39aad3790b045103d/tiles/{z}/{x}/{y}",
            "visible": true
          }
        }
      }
    }
  },
  "cells": [
    {
      "cell_type": "markdown",
      "source": [
        "# Initialize the engine and map"
      ],
      "metadata": {
        "id": "sEMR4YpTt456"
      }
    },
    {
      "cell_type": "code",
      "source": [
        "import ee\n",
        "import subprocess\n",
        "\n",
        "try:\n",
        "    import geemap\n",
        "except ImportError:\n",
        "    print('geemap package not installed. Installing ...')\n",
        "    subprocess.check_call([\"python\", '-m', 'pip', 'install', 'geemap'])\n",
        "\n",
        "import geemap"
      ],
      "metadata": {
        "id": "gJmbC6Vdavnw",
        "colab": {
          "base_uri": "https://localhost:8080/",
          "height": 34
        },
        "outputId": "c036ca15-1a13-42a1-d26d-fe6b00b2ab99"
      },
      "execution_count": null,
      "outputs": [
        {
          "output_type": "stream",
          "name": "stdout",
          "text": [
            "geemap package not installed. Installing ...\n"
          ]
        }
      ]
    },
    {
      "cell_type": "code",
      "source": [
        "!pip "
      ],
      "metadata": {
        "id": "HtvesTPsbUpu"
      },
      "execution_count": null,
      "outputs": []
    },
    {
      "cell_type": "code",
      "execution_count": null,
      "metadata": {
        "colab": {
          "base_uri": "https://localhost:8080/",
          "height": 621,
          "referenced_widgets": [
            "86eb9af251ca48da8c07a61f822df2a4",
            "fe5e0cbfb0f64bf682a5904403f5f815",
            "827104d714d1497f8d2e1d2a14bfcde5",
            "447a7b2b8ebb4b369a9e71804c5c1db2",
            "2a9bdd21778b420aad60dbeb6840c90d",
            "e613636bafa049e8803e69dba763cbd2",
            "851378c1bb2d4b49a9589b09b10c6ab7",
            "1f140464b8d84e1eb7432ce65e5611f3",
            "01c4824996174e9d997675e274597dc7",
            "24fb7c2214b646059bc37b1bf1cde611",
            "1fd646592f7045f9a16a07d8cea23bc6",
            "dca36dad43794188b36fcce3dee33cc0",
            "e22bf91a8ebe4f93b1305f5db3210df6",
            "f943710e28434611b4badf0cbc9d2519",
            "9f118e93e52242b7bcc83fbee7844eb0",
            "c3b976309a81401994f7d0e139eab5d9",
            "422c334f585c4bf0b56bb6b3b84d2f04",
            "96cb357e41c14bb3a60e6c104c5faa84",
            "e2d259c5b1074b2daa6d1f32da1c5ace",
            "40ab5d20b05a42dc9c81e292482355e0",
            "d6f3768df4f642eb8f5b10def543e70d",
            "bcf0f7da815c42d3ba0fb59c56178ec4",
            "89c019b47f2c41e5b922fe69d6de2207",
            "d6f7a057fd02409789ecdcedfcbab9db",
            "2a4c427afb814cecbdb68059f3907231",
            "58c1bb4263604767ac03de2f0de9fa89",
            "df4444bb4cf0446d86b9ba70913050db"
          ]
        },
        "id": "dQL7kzE3ad53",
        "outputId": "1241f945-4b37-415b-add8-272c58a18c1a"
      },
      "outputs": [
        {
          "output_type": "display_data",
          "data": {
            "text/plain": [
              "Map(center=[29.8692992, -95.5408542], controls=(WidgetControl(options=['position', 'transparent_bg'], widget=H…"
            ],
            "application/vnd.jupyter.widget-view+json": {
              "version_major": 2,
              "version_minor": 0,
              "model_id": "86eb9af251ca48da8c07a61f822df2a4"
            }
          },
          "metadata": {
            "application/vnd.jupyter.widget-view+json": {
              "colab": {
                "custom_widget_manager": {
                  "url": "https://ssl.gstatic.com/colaboratory-static/widgets/colab-cdn-widget-manager/a8874ba6619b6106/manager.min.js"
                }
              }
            }
          }
        }
      ],
      "source": [
        "import geemap\n",
        "center=[29.8692992,-95.5408542]\n",
        "Map = geemap.Map(center=center, zoom=11)\n",
        "Map.add_basemap('SATELLITE') # Add Google Map\n",
        "Map"
      ]
    },
    {
      "cell_type": "code",
      "source": [
        "import ee\n",
        "# Trigger the authentication flow.\n",
        "#ee.Authenticate()\n",
        "\n",
        "# Initialize the library.\n",
        "ee.Initialize()"
      ],
      "metadata": {
        "id": "4kVuMew9a1w9"
      },
      "execution_count": null,
      "outputs": []
    },
    {
      "cell_type": "markdown",
      "source": [
        "# define search parameters"
      ],
      "metadata": {
        "id": "ULBwloMJuBSA"
      }
    },
    {
      "cell_type": "code",
      "source": [
        "date = ee.Date(\"2000-09-01\")\n",
        "print(date.get('Year').getInfo())"
      ],
      "metadata": {
        "colab": {
          "base_uri": "https://localhost:8080/"
        },
        "id": "K_9-ggGbTZcr",
        "outputId": "42bc786b-b18a-4d51-8c96-5613f3402554"
      },
      "execution_count": null,
      "outputs": [
        {
          "output_type": "stream",
          "name": "stdout",
          "text": [
            "2000\n"
          ]
        }
      ]
    },
    {
      "cell_type": "code",
      "source": [
        "#search parameters are set here\n",
        "from datetime import date, timedelta #these are standard python datatime classes\n",
        "pnt_date = date(2019, 10, 23)\n",
        "delta = timedelta(days = 10)\n",
        "\n",
        "roi = ee.Geometry.Polygon(\n",
        "        [[[-95.672374, 29.973996],\n",
        "          [-95.672374, 29.754586],\n",
        "          [-95.381226, 29.754586],\n",
        "          [-95.381226, 29.973996]]])\n",
        "\n",
        "center = roi.centroid()\n",
        "lon,lat = center.coordinates().getInfo()\n",
        "bands = ['B1','B2','B3','B4','B5','B7']\n",
        "vis = {'bands': ['B4', 'B3', 'B2'],'min': [0, 0, 0], 'max': [20000,20000, 20000]} #reflectance * 10000"
      ],
      "metadata": {
        "id": "w_VLSCvzbBWl"
      },
      "execution_count": null,
      "outputs": []
    },
    {
      "cell_type": "code",
      "source": [],
      "metadata": {
        "id": "2Nn8uv7LbC59"
      },
      "execution_count": null,
      "outputs": []
    },
    {
      "cell_type": "code",
      "source": [
        "geojsonObject = { \"type\": \"Polygon\", \"coordinates\":  [[[-95.672374, 29.973996],\n",
        "          [-95.672374, 29.754586],\n",
        "          [-95.381226, 29.754586],\n",
        "          [-95.381226, 29.973996]]]}\n",
        "p1 = ee.Geometry(geojsonObject)\n",
        "print(p1.area().getInfo())\n"
      ],
      "metadata": {
        "colab": {
          "base_uri": "https://localhost:8080/"
        },
        "id": "-BB1sHDQovBh",
        "outputId": "09b762ae-32be-472a-cb44-093b909eeb53"
      },
      "execution_count": null,
      "outputs": [
        {
          "output_type": "stream",
          "name": "stdout",
          "text": [
            "684958139.491315\n"
          ]
        }
      ]
    },
    {
      "cell_type": "code",
      "source": [
        "Map.addLayer(p1,{},\"o1\")"
      ],
      "metadata": {
        "id": "gmDpou6MbT-m",
        "colab": {
          "base_uri": "https://localhost:8080/",
          "height": 165
        },
        "outputId": "82d10fbd-56ff-42f8-991f-489dd2004250"
      },
      "execution_count": null,
      "outputs": [
        {
          "output_type": "error",
          "ename": "NameError",
          "evalue": "ignored",
          "traceback": [
            "\u001b[0;31m---------------------------------------------------------------------------\u001b[0m",
            "\u001b[0;31mNameError\u001b[0m                                 Traceback (most recent call last)",
            "\u001b[0;32m<ipython-input-1-7c4f66210d66>\u001b[0m in \u001b[0;36m<module>\u001b[0;34m()\u001b[0m\n\u001b[0;32m----> 1\u001b[0;31m \u001b[0mMap\u001b[0m\u001b[0;34m.\u001b[0m\u001b[0maddLayer\u001b[0m\u001b[0;34m(\u001b[0m\u001b[0mp1\u001b[0m\u001b[0;34m,\u001b[0m\u001b[0;34m{\u001b[0m\u001b[0;34m}\u001b[0m\u001b[0;34m,\u001b[0m\u001b[0;34m\"o1\"\u001b[0m\u001b[0;34m)\u001b[0m\u001b[0;34m\u001b[0m\u001b[0;34m\u001b[0m\u001b[0m\n\u001b[0m",
            "\u001b[0;31mNameError\u001b[0m: name 'Map' is not defined"
          ]
        }
      ]
    },
    {
      "cell_type": "markdown",
      "source": [
        "# Search for the image"
      ],
      "metadata": {
        "id": "6OzImGVTuM70"
      }
    },
    {
      "cell_type": "code",
      "source": [
        "pnt_date = date(2013, 5, 30)\n",
        "LC8_header = 'LANDSAT/LC08/C02/T1_L2'\n",
        "l8_bands = ['SR_B2','SR_B3','SR_B4','SR_B5','SR_B6','SR_B7']\n",
        "if delta.days == 0:\n",
        "    start = pnt_date\n",
        "    end = pnt_date + datetime.timedelta(days = 1)\n",
        "else:\n",
        "    start = pnt_date - delta\n",
        "    end = pnt_date + delta\n",
        "date1 = ee.Date.fromYMD(start.year, start.month, start.day)\n",
        "date2 = ee.Date.fromYMD(end.year, end.month, end.day)    \n",
        "poi = ee.Geometry.Point(lon, lat)\n",
        "images = ee.ImageCollection(LC8_header) \\\n",
        "    .filterBounds(poi) \\\n",
        "    .filterDate(date1, date2) \\\n",
        "    .sort('CLOUD_COVER')\n",
        "\n",
        "try:\n",
        "    images.getInfo()\n",
        "    image1 = images.first()\n",
        "except:\n",
        "    print('No image was found, try another date')\n",
        "ac_date = ee.Date(image1.get('system:time_start')).format('MM/dd/YYYY')\n",
        "cloud_cover = image1.get('CLOUD_COVER').getInfo()\n",
        "print('Found an ' + ' image for date:', pnt_date, ' at date:', ac_date.getInfo(), 'cloud cover = ', cloud_cover)\n",
        "img1 = image1.select(l8_bands,bands)\n",
        "image_studyarea = img1.clip(roi)\n",
        "Map.addLayer(image_studyarea, vis,'clipped')"
      ],
      "metadata": {
        "colab": {
          "base_uri": "https://localhost:8080/",
          "height": 34
        },
        "id": "oB9fTgqtbrbx",
        "outputId": "27c06c14-0465-42c4-a20c-275612c29ded"
      },
      "execution_count": null,
      "outputs": [
        {
          "output_type": "stream",
          "name": "stdout",
          "text": [
            "Found an  image for date: 2013-05-30  at date: 06/05/2013 cloud cover =  16.22\n"
          ]
        }
      ]
    },
    {
      "cell_type": "code",
      "source": [
        "image1.getInfo()"
      ],
      "metadata": {
        "colab": {
          "base_uri": "https://localhost:8080/"
        },
        "id": "i0hzW9pCkgPL",
        "outputId": "03f285f2-e548-459e-f932-19d28f4e3aab"
      },
      "execution_count": null,
      "outputs": [
        {
          "output_type": "execute_result",
          "data": {
            "text/plain": [
              "{'bands': [{'crs': 'EPSG:32614',\n",
              "   'crs_transform': [30, 0, 687285, 0, -30, 3465015],\n",
              "   'data_type': {'max': 65535,\n",
              "    'min': 0,\n",
              "    'precision': 'int',\n",
              "    'type': 'PixelType'},\n",
              "   'dimensions': [7281, 7251],\n",
              "   'id': 'SR_B1'},\n",
              "  {'crs': 'EPSG:32614',\n",
              "   'crs_transform': [30, 0, 687285, 0, -30, 3465015],\n",
              "   'data_type': {'max': 65535,\n",
              "    'min': 0,\n",
              "    'precision': 'int',\n",
              "    'type': 'PixelType'},\n",
              "   'dimensions': [7281, 7251],\n",
              "   'id': 'SR_B2'},\n",
              "  {'crs': 'EPSG:32614',\n",
              "   'crs_transform': [30, 0, 687285, 0, -30, 3465015],\n",
              "   'data_type': {'max': 65535,\n",
              "    'min': 0,\n",
              "    'precision': 'int',\n",
              "    'type': 'PixelType'},\n",
              "   'dimensions': [7281, 7251],\n",
              "   'id': 'SR_B3'},\n",
              "  {'crs': 'EPSG:32614',\n",
              "   'crs_transform': [30, 0, 687285, 0, -30, 3465015],\n",
              "   'data_type': {'max': 65535,\n",
              "    'min': 0,\n",
              "    'precision': 'int',\n",
              "    'type': 'PixelType'},\n",
              "   'dimensions': [7281, 7251],\n",
              "   'id': 'SR_B4'},\n",
              "  {'crs': 'EPSG:32614',\n",
              "   'crs_transform': [30, 0, 687285, 0, -30, 3465015],\n",
              "   'data_type': {'max': 65535,\n",
              "    'min': 0,\n",
              "    'precision': 'int',\n",
              "    'type': 'PixelType'},\n",
              "   'dimensions': [7281, 7251],\n",
              "   'id': 'SR_B5'},\n",
              "  {'crs': 'EPSG:32614',\n",
              "   'crs_transform': [30, 0, 687285, 0, -30, 3465015],\n",
              "   'data_type': {'max': 65535,\n",
              "    'min': 0,\n",
              "    'precision': 'int',\n",
              "    'type': 'PixelType'},\n",
              "   'dimensions': [7281, 7251],\n",
              "   'id': 'SR_B6'},\n",
              "  {'crs': 'EPSG:32614',\n",
              "   'crs_transform': [30, 0, 687285, 0, -30, 3465015],\n",
              "   'data_type': {'max': 65535,\n",
              "    'min': 0,\n",
              "    'precision': 'int',\n",
              "    'type': 'PixelType'},\n",
              "   'dimensions': [7281, 7251],\n",
              "   'id': 'SR_B7'},\n",
              "  {'crs': 'EPSG:32614',\n",
              "   'crs_transform': [30, 0, 687285, 0, -30, 3465015],\n",
              "   'data_type': {'max': 255,\n",
              "    'min': 0,\n",
              "    'precision': 'int',\n",
              "    'type': 'PixelType'},\n",
              "   'dimensions': [7281, 7251],\n",
              "   'id': 'SR_QA_AEROSOL'},\n",
              "  {'crs': 'EPSG:32614',\n",
              "   'crs_transform': [30, 0, 687285, 0, -30, 3465015],\n",
              "   'data_type': {'max': 65535,\n",
              "    'min': 0,\n",
              "    'precision': 'int',\n",
              "    'type': 'PixelType'},\n",
              "   'dimensions': [7281, 7251],\n",
              "   'id': 'ST_B10'},\n",
              "  {'crs': 'EPSG:32614',\n",
              "   'crs_transform': [30, 0, 687285, 0, -30, 3465015],\n",
              "   'data_type': {'max': 32767,\n",
              "    'min': -32768,\n",
              "    'precision': 'int',\n",
              "    'type': 'PixelType'},\n",
              "   'dimensions': [7281, 7251],\n",
              "   'id': 'ST_ATRAN'},\n",
              "  {'crs': 'EPSG:32614',\n",
              "   'crs_transform': [30, 0, 687285, 0, -30, 3465015],\n",
              "   'data_type': {'max': 32767,\n",
              "    'min': -32768,\n",
              "    'precision': 'int',\n",
              "    'type': 'PixelType'},\n",
              "   'dimensions': [7281, 7251],\n",
              "   'id': 'ST_CDIST'},\n",
              "  {'crs': 'EPSG:32614',\n",
              "   'crs_transform': [30, 0, 687285, 0, -30, 3465015],\n",
              "   'data_type': {'max': 32767,\n",
              "    'min': -32768,\n",
              "    'precision': 'int',\n",
              "    'type': 'PixelType'},\n",
              "   'dimensions': [7281, 7251],\n",
              "   'id': 'ST_DRAD'},\n",
              "  {'crs': 'EPSG:32614',\n",
              "   'crs_transform': [30, 0, 687285, 0, -30, 3465015],\n",
              "   'data_type': {'max': 32767,\n",
              "    'min': -32768,\n",
              "    'precision': 'int',\n",
              "    'type': 'PixelType'},\n",
              "   'dimensions': [7281, 7251],\n",
              "   'id': 'ST_EMIS'},\n",
              "  {'crs': 'EPSG:32614',\n",
              "   'crs_transform': [30, 0, 687285, 0, -30, 3465015],\n",
              "   'data_type': {'max': 32767,\n",
              "    'min': -32768,\n",
              "    'precision': 'int',\n",
              "    'type': 'PixelType'},\n",
              "   'dimensions': [7281, 7251],\n",
              "   'id': 'ST_EMSD'},\n",
              "  {'crs': 'EPSG:32614',\n",
              "   'crs_transform': [30, 0, 687285, 0, -30, 3465015],\n",
              "   'data_type': {'max': 32767,\n",
              "    'min': -32768,\n",
              "    'precision': 'int',\n",
              "    'type': 'PixelType'},\n",
              "   'dimensions': [7281, 7251],\n",
              "   'id': 'ST_QA'},\n",
              "  {'crs': 'EPSG:32614',\n",
              "   'crs_transform': [30, 0, 687285, 0, -30, 3465015],\n",
              "   'data_type': {'max': 32767,\n",
              "    'min': -32768,\n",
              "    'precision': 'int',\n",
              "    'type': 'PixelType'},\n",
              "   'dimensions': [7281, 7251],\n",
              "   'id': 'ST_TRAD'},\n",
              "  {'crs': 'EPSG:32614',\n",
              "   'crs_transform': [30, 0, 687285, 0, -30, 3465015],\n",
              "   'data_type': {'max': 32767,\n",
              "    'min': -32768,\n",
              "    'precision': 'int',\n",
              "    'type': 'PixelType'},\n",
              "   'dimensions': [7281, 7251],\n",
              "   'id': 'ST_URAD'},\n",
              "  {'crs': 'EPSG:32614',\n",
              "   'crs_transform': [30, 0, 687285, 0, -30, 3465015],\n",
              "   'data_type': {'max': 65535,\n",
              "    'min': 0,\n",
              "    'precision': 'int',\n",
              "    'type': 'PixelType'},\n",
              "   'dimensions': [7281, 7251],\n",
              "   'id': 'QA_PIXEL'},\n",
              "  {'crs': 'EPSG:32614',\n",
              "   'crs_transform': [30, 0, 687285, 0, -30, 3465015],\n",
              "   'data_type': {'max': 65535,\n",
              "    'min': 0,\n",
              "    'precision': 'int',\n",
              "    'type': 'PixelType'},\n",
              "   'dimensions': [7281, 7251],\n",
              "   'id': 'QA_RADSAT'}],\n",
              " 'id': 'LANDSAT/LC08/C02/T1_L2/LC08_026039_20130327',\n",
              " 'properties': {'ALGORITHM_SOURCE_SURFACE_REFLECTANCE': 'LaSRC_1.5.0',\n",
              "  'ALGORITHM_SOURCE_SURFACE_TEMPERATURE': 'st_1.3.0',\n",
              "  'CLOUD_COVER': 0.02,\n",
              "  'CLOUD_COVER_LAND': 0.02,\n",
              "  'COLLECTION_CATEGORY': 'T1',\n",
              "  'COLLECTION_NUMBER': 2,\n",
              "  'DATA_SOURCE_AIR_TEMPERATURE': 'MODIS',\n",
              "  'DATA_SOURCE_ELEVATION': 'GLS2000',\n",
              "  'DATA_SOURCE_OZONE': 'MODIS',\n",
              "  'DATA_SOURCE_PRESSURE': 'Calculated',\n",
              "  'DATA_SOURCE_REANALYSIS': 'GEOS-5 FP-IT',\n",
              "  'DATA_SOURCE_TIRS_STRAY_LIGHT_CORRECTION': 'TIRS',\n",
              "  'DATA_SOURCE_WATER_VAPOR': 'MODIS',\n",
              "  'DATE_ACQUIRED': '2013-03-27',\n",
              "  'DATE_PRODUCT_GENERATED': 1599975231000,\n",
              "  'DATUM': 'WGS84',\n",
              "  'EARTH_SUN_DISTANCE': 0.9979862,\n",
              "  'ELLIPSOID': 'WGS84',\n",
              "  'GEOMETRIC_RMSE_MODEL': 4.721,\n",
              "  'GEOMETRIC_RMSE_MODEL_X': 3.098,\n",
              "  'GEOMETRIC_RMSE_MODEL_Y': 3.562,\n",
              "  'GEOMETRIC_RMSE_VERIFY': 3.386,\n",
              "  'GRID_CELL_SIZE_REFLECTIVE': 30,\n",
              "  'GRID_CELL_SIZE_THERMAL': 30,\n",
              "  'GROUND_CONTROL_POINTS_MODEL': 698,\n",
              "  'GROUND_CONTROL_POINTS_VERIFY': 215,\n",
              "  'GROUND_CONTROL_POINTS_VERSION': 5,\n",
              "  'IMAGE_QUALITY_OLI': 9,\n",
              "  'IMAGE_QUALITY_TIRS': 9,\n",
              "  'L1_DATE_PRODUCT_GENERATED': '2020-09-13T05:26:04Z',\n",
              "  'L1_LANDSAT_PRODUCT_ID': 'LC08_L1TP_026039_20130327_20200913_02_T1',\n",
              "  'L1_PROCESSING_LEVEL': 'L1TP',\n",
              "  'L1_PROCESSING_SOFTWARE_VERSION': 'LPGS_15.3.1c',\n",
              "  'L1_REQUEST_ID': 'L2',\n",
              "  'LANDSAT_PRODUCT_ID': 'LC08_L2SP_026039_20130327_20200913_02_T1',\n",
              "  'LANDSAT_SCENE_ID': 'LC80260392013086LGN02',\n",
              "  'MAP_PROJECTION': 'UTM',\n",
              "  'NADIR_OFFNADIR': 'NADIR',\n",
              "  'ORIENTATION': 'NORTH_UP',\n",
              "  'PROCESSING_LEVEL': 'L2SP',\n",
              "  'PROCESSING_SOFTWARE_VERSION': 'LPGS_15.3.1c',\n",
              "  'REFLECTANCE_ADD_BAND_1': -0.2,\n",
              "  'REFLECTANCE_ADD_BAND_2': -0.2,\n",
              "  'REFLECTANCE_ADD_BAND_3': -0.2,\n",
              "  'REFLECTANCE_ADD_BAND_4': -0.2,\n",
              "  'REFLECTANCE_ADD_BAND_5': -0.2,\n",
              "  'REFLECTANCE_ADD_BAND_6': -0.2,\n",
              "  'REFLECTANCE_ADD_BAND_7': -0.2,\n",
              "  'REFLECTANCE_MULT_BAND_1': 2.75e-05,\n",
              "  'REFLECTANCE_MULT_BAND_2': 2.75e-05,\n",
              "  'REFLECTANCE_MULT_BAND_3': 2.75e-05,\n",
              "  'REFLECTANCE_MULT_BAND_4': 2.75e-05,\n",
              "  'REFLECTANCE_MULT_BAND_5': 2.75e-05,\n",
              "  'REFLECTANCE_MULT_BAND_6': 2.75e-05,\n",
              "  'REFLECTANCE_MULT_BAND_7': 2.75e-05,\n",
              "  'REFLECTIVE_LINES': 7251,\n",
              "  'REFLECTIVE_SAMPLES': 7281,\n",
              "  'REQUEST_ID': 'L2',\n",
              "  'ROLL_ANGLE': -0.001,\n",
              "  'SATURATION_BAND_1': 'N',\n",
              "  'SATURATION_BAND_2': 'N',\n",
              "  'SATURATION_BAND_3': 'N',\n",
              "  'SATURATION_BAND_4': 'N',\n",
              "  'SATURATION_BAND_5': 'Y',\n",
              "  'SATURATION_BAND_6': 'Y',\n",
              "  'SATURATION_BAND_7': 'Y',\n",
              "  'SATURATION_BAND_8': 'N',\n",
              "  'SATURATION_BAND_9': 'N',\n",
              "  'SCENE_CENTER_TIME': '16:56:31.3259140Z',\n",
              "  'SENSOR_ID': 'OLI_TIRS',\n",
              "  'SPACECRAFT_ID': 'LANDSAT_8',\n",
              "  'STATION_ID': 'LGN',\n",
              "  'SUN_AZIMUTH': 137.03848494,\n",
              "  'SUN_ELEVATION': 54.90963689,\n",
              "  'TARGET_WRS_PATH': 26,\n",
              "  'TARGET_WRS_ROW': 39,\n",
              "  'TEMPERATURE_ADD_BAND_ST_B10': 149,\n",
              "  'TEMPERATURE_MAXIMUM_BAND_ST_B10': 372.999941,\n",
              "  'TEMPERATURE_MINIMUM_BAND_ST_B10': 149.003418,\n",
              "  'TEMPERATURE_MULT_BAND_ST_B10': 0.00341802,\n",
              "  'THERMAL_LINES': 7251,\n",
              "  'THERMAL_SAMPLES': 7281,\n",
              "  'TIRS_SSM_MODEL': 'ACTUAL',\n",
              "  'TIRS_SSM_POSITION_STATUS': 'NOMINAL',\n",
              "  'TRUNCATION_OLI': 'UPPER',\n",
              "  'UTM_ZONE': 14,\n",
              "  'WRS_PATH': 26,\n",
              "  'WRS_ROW': 39,\n",
              "  'WRS_TYPE': 2,\n",
              "  'system:asset_size': 856892141,\n",
              "  'system:footprint': {'coordinates': [[-97.05332108220053,\n",
              "     29.673876870002413],\n",
              "    [-97.04904444706946, 29.672980662876284],\n",
              "    [-96.40258954656478, 29.546910837866555],\n",
              "    [-95.25117575148943, 29.313890505963055],\n",
              "    [-95.23508390283845, 29.310595254021592],\n",
              "    [-95.23449152132349, 29.3115550393556],\n",
              "    [-95.1592838480302, 29.590961523085404],\n",
              "    [-95.08481838178078, 29.866358629236327],\n",
              "    [-95.00838691004896, 30.14799433267936],\n",
              "    [-94.97765600282845, 30.260892510166094],\n",
              "    [-94.92109213377913, 30.467878246298255],\n",
              "    [-94.90376697261014, 30.531144255166925],\n",
              "    [-94.82895078866395, 30.80399779487255],\n",
              "    [-94.79374277252384, 30.93179033455238],\n",
              "    [-94.79904449499473, 30.932885270509114],\n",
              "    [-95.91073113252895, 31.15440713828473],\n",
              "    [-96.6415611809683, 31.294351341851822],\n",
              "    [-96.64321360733376, 31.294381679688126],\n",
              "    [-96.64835829550039, 31.27450624748786],\n",
              "    [-96.85261988382442, 30.474774415009463],\n",
              "    [-97.05332108220053, 29.673876870002413]],\n",
              "   'type': 'LinearRing'},\n",
              "  'system:index': 'LC08_026039_20130327',\n",
              "  'system:time_end': 1364403391325,\n",
              "  'system:time_start': 1364403391325},\n",
              " 'type': 'Image',\n",
              " 'version': 1629886199073479}"
            ]
          },
          "metadata": {},
          "execution_count": 20
        }
      ]
    },
    {
      "cell_type": "code",
      "source": [
        "print(image1.select(['SR_B7', 'SR_B5', 'SR_B3'], ['SWIR1', 'NIR', 'Green']).bandNames().getInfo())"
      ],
      "metadata": {
        "colab": {
          "base_uri": "https://localhost:8080/"
        },
        "id": "jTMVm40zB-hv",
        "outputId": "11fdb9fb-9e2b-49d5-b41f-f7e41dd2f547"
      },
      "execution_count": null,
      "outputs": [
        {
          "output_type": "stream",
          "name": "stdout",
          "text": [
            "['SWIR1', 'NIR', 'Green']\n"
          ]
        }
      ]
    },
    {
      "cell_type": "markdown",
      "source": [
        "# Apply cloud mask"
      ],
      "metadata": {
        "id": "Cm9GsVYeuWxy"
      }
    },
    {
      "cell_type": "code",
      "source": [
        "mask = image1.select(['QA_PIXEL'])\n",
        "cloudless = mask.bitwiseAnd(1<<3).eq(0)\n",
        "image_masked = image1.updateMask(cloudless)"
      ],
      "metadata": {
        "id": "FGspVW3JDfAK"
      },
      "execution_count": null,
      "outputs": []
    },
    {
      "cell_type": "code",
      "source": [
        "Map.addLayer(image_masked, {'bands': ['SR_B5', 'SR_B4', 'SR_B2'],'min': [0, 0, 0], 'max': [20000,20000, 20000]} ,'image_masked')"
      ],
      "metadata": {
        "id": "zxXqqU3mf9Qa"
      },
      "execution_count": null,
      "outputs": []
    },
    {
      "cell_type": "code",
      "source": [],
      "metadata": {
        "id": "hnhoooNCt3F8"
      },
      "execution_count": null,
      "outputs": []
    },
    {
      "cell_type": "markdown",
      "source": [
        "# export the image"
      ],
      "metadata": {
        "id": "aMlk-GYZubYK"
      }
    },
    {
      "cell_type": "code",
      "source": [
        "#export image for download\n",
        "image_descrition = \"ls8_2013-04-01\"\n",
        "image_name = \"ls8_2013-04-01\"\n",
        "folder_name = \"Landsat8\"\n",
        "file_extension = \"GeoTIFF\"\n",
        "#download the image chip to google drive\n",
        "task1 = ee.batch.Export.image.toDrive(image=image_studyarea,description=image_descrition,fileNamePrefix=image_name\n",
        "                                      ,fileFormat=file_extension,scale=30, folder=folder_name)\n",
        "task1.start()"
      ],
      "metadata": {
        "id": "vwGUoth6buaE"
      },
      "execution_count": null,
      "outputs": []
    },
    {
      "cell_type": "markdown",
      "source": [
        "# compute the NDVI"
      ],
      "metadata": {
        "id": "BHqfAANtugFO"
      }
    },
    {
      "cell_type": "code",
      "source": [
        "def getNDVI(image):\n",
        "    return image.normalizedDifference(['B4', 'B3']) #for landsat 8, band 5 is nir and band 4 is red\n",
        "def getNDVI1(image):\n",
        "  return image.expression('(b(\"B4\") - b(\"B3\")) / (b(\"B4\") + b(\"B3\"))')  \n",
        "ndvi1 = getNDVI1(image_studyarea)\n",
        "vizParams = {'min': -0.5, 'max': 0.5,\n",
        "             'palette': ['blue', 'yellow', 'green']}\n",
        "Map.addLayer(ndvi1, vizParams, 'NDVI')"
      ],
      "metadata": {
        "id": "BYkq6cbUbxRk"
      },
      "execution_count": null,
      "outputs": []
    }
  ]
}