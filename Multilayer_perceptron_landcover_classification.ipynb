{
  "nbformat": 4,
  "nbformat_minor": 0,
  "metadata": {
    "colab": {
      "provenance": []
    },
    "kernelspec": {
      "name": "python3",
      "display_name": "Python 3"
    },
    "language_info": {
      "name": "python"
    }
  },
  "cells": [
    {
      "cell_type": "markdown",
      "source": [
        "# Build a perceptron"
      ],
      "metadata": {
        "id": "cWbk7EOk8Y9T"
      }
    },
    {
      "cell_type": "markdown",
      "source": [
        "<div id=\"content\"><ol>\n",
        "<li><p>Randomly initialize the weights ($w_1,w_2,w_3,...,w_n$) and bias b</p></li>\n",
        "<li><p>Select one input $\\large (x_1,x_2,x_3,...,x_n)$ and output (y) pair at random. </p></li>\n",
        "<li><p>Present the values $\\large (x_1,x_2,x_3,...,x_n)$ to the perceptron to compute the output $\\large y = f(z)$,  $\\large z = \\sum_{n}^{i=0}W_i X_i + b$, and $\\large f(z) = \\begin{cases} -1, & z<0 \\\\1, & z \\geq0 \\end{cases}$</p></li>\n",
        "<li><p>If the output y is different from the ground truth for this input/output pair, adjust the weights in the following way:</p>\n",
        "<p>a. If y &lt; 0, add $η\\times xi$ to each $w_i$.</p>\n",
        "<p>b. If y &gt; 0, subtract $η\\times xi$ from each $w_i$.</p></li>\n",
        "<li><p>Repeat steps 2, 3, and 4 until the perceptron predicts all examples correctly.</p></li>\n",
        "</ol></div>"
      ],
      "metadata": {
        "id": "gpiRYrAl9ccL"
      }
    },
    {
      "cell_type": "code",
      "execution_count": null,
      "metadata": {
        "id": "gwLRjRzBcTn1",
        "colab": {
          "base_uri": "https://localhost:8080/",
          "height": 296
        },
        "outputId": "070b9d29-9421-4a19-8e2a-43d76ff91192"
      },
      "outputs": [
        {
          "output_type": "stream",
          "name": "stdout",
          "text": [
            "[-1.0, 1.0, -1.0, 1.0]\n"
          ]
        },
        {
          "output_type": "display_data",
          "data": {
            "text/plain": [
              "<Figure size 432x288 with 1 Axes>"
            ],
            "image/png": "[encoded data removed]"
          },
          "metadata": {
            "needs_background": "light"
          }
        }
      ],
      "source": [
        "import matplotlib.pyplot as plt\n",
        "import numpy as np\n",
        "# Generate some random data for x1, x2,x3 and y\n",
        "#X has three predictor variables, and there are three samples\n",
        "x_train = [(1.0, -1.0, -1.0), (1.0, -1.0, 1.0),\n",
        "    (1.0, 1.0, -1.0), (1.0, 1.0, 1.0)] # Inputs\n",
        "y_train = [1.0, 1.0, 1.0, -1.0] # Output (ground truth)\n",
        "x_train1 = np.rot90(np.array(x_train)).tolist()\n",
        "print(x_train1[0])\n",
        "# Create a scatter plot\n",
        "plt.scatter(x_train1[0], x_train1[1], c=y_train)\n",
        "\n",
        "# Set the x and y axis labels\n",
        "plt.xlabel('x1')\n",
        "plt.ylabel('x2')\n",
        "\n",
        "# Show the plot\n",
        "plt.show()"
      ]
    },
    {
      "cell_type": "code",
      "source": [
        "import random\n",
        "\n",
        "def show_learning(w):\n",
        "    print('w0 =', '%5.2f' % w[0], ', w1 =', '%5.2f' % w[1],\n",
        "          ', w2 =', '%5.2f' % w[2])\n",
        "\n",
        "# Define variables needed to control training process.\n",
        "random.seed(7) # To make repeatable\n",
        "LEARNING_RATE = 0.1\n",
        "index_list = [0, 1, 2, 3] # Used to randomize order\n",
        "\n",
        "# Define training examples.\n",
        "x_train = [(1.0, -1.0, -1.0), (1.0, -1.0, 1.0),\n",
        "    (1.0, 1.0, -1.0), (1.0, 1.0, 1.0)] # Inputs\n",
        "y_train = [1.0, 1.0, 1.0, -1.0] # Output (ground truth)\n",
        "\n",
        "# Define perceptron weights.\n",
        "w = [0.2, -0.6, 0.25] # Initialize to some “random” numbers\n",
        "\n",
        "# Print initial weights.\n",
        "def compute_output(w, x):\n",
        "    z = 0.0\n",
        "    for i in range(len(w)):\n",
        "        z += x[i] * w[i] # Compute sum of weighted inputs\n",
        "    if z < 0: # Apply sign function\n",
        "        return -1\n",
        "    else:\n",
        "        return 1\n",
        "# Perceptron training loop.\n",
        "all_correct = False\n",
        "while not all_correct:\n",
        "    all_correct = True\n",
        "    random.shuffle(index_list) # Randomize order\n",
        "    for i in index_list:\n",
        "        x = x_train[i]\n",
        "        y = y_train[i]\n",
        "        p_out = compute_output(w, x) # Perceptron function\n",
        "\n",
        "        if y != p_out: # Update weights when wrong\n",
        "            for j in range(0, len(w)):\n",
        "                w[j] += (y * LEARNING_RATE * x[j])\n",
        "            all_correct = False\n",
        "            show_learning(w) # Show updated weights"
      ],
      "metadata": {
        "colab": {
          "base_uri": "https://localhost:8080/"
        },
        "id": "jAV3oM-88lCz",
        "outputId": "09ffb973-a72e-48bd-f135-eab59febb49f"
      },
      "execution_count": null,
      "outputs": [
        {
          "output_type": "stream",
          "name": "stdout",
          "text": [
            "w0 =  0.30 , w1 = -0.50 , w2 =  0.15\n",
            "w0 =  0.40 , w1 = -0.40 , w2 =  0.05\n",
            "w0 =  0.30 , w1 = -0.50 , w2 = -0.05\n",
            "w0 =  0.40 , w1 = -0.40 , w2 = -0.15\n"
          ]
        }
      ]
    },
    {
      "cell_type": "markdown",
      "source": [
        "# Use a perceptron from Scikit Learn to perform a classification"
      ],
      "metadata": {
        "id": "fLRdrOwJBSAo"
      }
    },
    {
      "cell_type": "markdown",
      "source": [
        "## About the Iris data set: \n",
        "this data sets consists of 3 different types of irises’ (Setosa, Versicolour, and Virginica) petal and sepal length, stored in a 150x4 numpy.ndarray\n",
        "\n",
        "The rows being the samples and the columns being: Sepal Length, Sepal Width, Petal Length and Petal Width."
      ],
      "metadata": {
        "id": "emmvsAfGDm5b"
      }
    },
    {
      "cell_type": "code",
      "source": [
        "import numpy as np\n",
        "from sklearn.datasets import load_iris\n",
        "from sklearn.linear_model import Perceptron\n",
        "\n",
        "iris = load_iris(as_frame=True)\n",
        "X = iris.data[[\"petal length (cm)\", \"petal width (cm)\"]].values\n",
        "y = (iris.target == 0)  # Iris setosa\n",
        "\n",
        "per_clf = Perceptron(random_state=42)\n",
        "per_clf.fit(X, y)\n",
        "\n"
      ],
      "metadata": {
        "id": "vtbIcq0IBrZD",
        "colab": {
          "base_uri": "https://localhost:8080/",
          "height": 75
        },
        "outputId": "bb0632d0-6a5a-4cfd-fe5e-e1584c1b0110"
      },
      "execution_count": null,
      "outputs": [
        {
          "output_type": "execute_result",
          "data": {
            "text/plain": [
              "Perceptron(random_state=42)"
            ],
            "text/html": [
              "<style>#sk-container-id-5 {color: black;background-color: white;}#sk-container-id-5 pre{padding: 0;}#sk-container-id-5 div.sk-toggleable {background-color: white;}#sk-container-id-5 label.sk-toggleable__label {cursor: pointer;display: block;width: 100%;margin-bottom: 0;padding: 0.3em;box-sizing: border-box;text-align: center;}#sk-container-id-5 label.sk-toggleable__label-arrow:before {content: \"▸\";float: left;margin-right: 0.25em;color: #696969;}#sk-container-id-5 label.sk-toggleable__label-arrow:hover:before {color: black;}#sk-container-id-5 div.sk-estimator:hover label.sk-toggleable__label-arrow:before {color: black;}#sk-container-id-5 div.sk-toggleable__content {max-height: 0;max-width: 0;overflow: hidden;text-align: left;background-color: #f0f8ff;}#sk-container-id-5 div.sk-toggleable__content pre {margin: 0.2em;color: black;border-radius: 0.25em;background-color: #f0f8ff;}#sk-container-id-5 input.sk-toggleable__control:checked~div.sk-toggleable__content {max-height: 200px;max-width: 100%;overflow: auto;}#sk-container-id-5 input.sk-toggleable__control:checked~label.sk-toggleable__label-arrow:before {content: \"▾\";}#sk-container-id-5 div.sk-estimator input.sk-toggleable__control:checked~label.sk-toggleable__label {background-color: #d4ebff;}#sk-container-id-5 div.sk-label input.sk-toggleable__control:checked~label.sk-toggleable__label {background-color: #d4ebff;}#sk-container-id-5 input.sk-hidden--visually {border: 0;clip: rect(1px 1px 1px 1px);clip: rect(1px, 1px, 1px, 1px);height: 1px;margin: -1px;overflow: hidden;padding: 0;position: absolute;width: 1px;}#sk-container-id-5 div.sk-estimator {font-family: monospace;background-color: #f0f8ff;border: 1px dotted black;border-radius: 0.25em;box-sizing: border-box;margin-bottom: 0.5em;}#sk-container-id-5 div.sk-estimator:hover {background-color: #d4ebff;}#sk-container-id-5 div.sk-parallel-item::after {content: \"\";width: 100%;border-bottom: 1px solid gray;flex-grow: 1;}#sk-container-id-5 div.sk-label:hover label.sk-toggleable__label {background-color: #d4ebff;}#sk-container-id-5 div.sk-serial::before {content: \"\";position: absolute;border-left: 1px solid gray;box-sizing: border-box;top: 0;bottom: 0;left: 50%;z-index: 0;}#sk-container-id-5 div.sk-serial {display: flex;flex-direction: column;align-items: center;background-color: white;padding-right: 0.2em;padding-left: 0.2em;position: relative;}#sk-container-id-5 div.sk-item {position: relative;z-index: 1;}#sk-container-id-5 div.sk-parallel {display: flex;align-items: stretch;justify-content: center;background-color: white;position: relative;}#sk-container-id-5 div.sk-item::before, #sk-container-id-5 div.sk-parallel-item::before {content: \"\";position: absolute;border-left: 1px solid gray;box-sizing: border-box;top: 0;bottom: 0;left: 50%;z-index: -1;}#sk-container-id-5 div.sk-parallel-item {display: flex;flex-direction: column;z-index: 1;position: relative;background-color: white;}#sk-container-id-5 div.sk-parallel-item:first-child::after {align-self: flex-end;width: 50%;}#sk-container-id-5 div.sk-parallel-item:last-child::after {align-self: flex-start;width: 50%;}#sk-container-id-5 div.sk-parallel-item:only-child::after {width: 0;}#sk-container-id-5 div.sk-dashed-wrapped {border: 1px dashed gray;margin: 0 0.4em 0.5em 0.4em;box-sizing: border-box;padding-bottom: 0.4em;background-color: white;}#sk-container-id-5 div.sk-label label {font-family: monospace;font-weight: bold;display: inline-block;line-height: 1.2em;}#sk-container-id-5 div.sk-label-container {text-align: center;}#sk-container-id-5 div.sk-container {/* jupyter's `normalize.less` sets `[hidden] { display: none; }` but bootstrap.min.css set `[hidden] { display: none !important; }` so we also need the `!important` here to be able to override the default hidden behavior on the sphinx rendered scikit-learn.org. See: https://github.com/scikit-learn/scikit-learn/issues/21755 */display: inline-block !important;position: relative;}#sk-container-id-5 div.sk-text-repr-fallback {display: none;}</style><div id=\"sk-container-id-5\" class=\"sk-top-container\"><div class=\"sk-text-repr-fallback\"><pre>Perceptron(random_state=42)</pre><b>In a Jupyter environment, please rerun this cell to show the HTML representation or trust the notebook. <br />On GitHub, the HTML representation is unable to render, please try loading this page with nbviewer.org.</b></div><div class=\"sk-container\" hidden><div class=\"sk-item\"><div class=\"sk-estimator sk-toggleable\"><input class=\"sk-toggleable__control sk-hidden--visually\" id=\"sk-estimator-id-5\" type=\"checkbox\" checked><label for=\"sk-estimator-id-5\" class=\"sk-toggleable__label sk-toggleable__label-arrow\">Perceptron</label><div class=\"sk-toggleable__content\"><pre>Perceptron(random_state=42)</pre></div></div></div></div></div>"
            ]
          },
          "metadata": {},
          "execution_count": 36
        }
      ]
    },
    {
      "cell_type": "code",
      "source": [
        "import matplotlib.pyplot as plt\n",
        "from matplotlib.colors import ListedColormap\n",
        "\n",
        "a = -per_clf.coef_[0, 0] / per_clf.coef_[0, 1]\n",
        "b = -per_clf.intercept_ / per_clf.coef_[0, 1]\n",
        "axes = [0, 5, 0, 2]\n",
        "x0, x1 = np.meshgrid(\n",
        "    np.linspace(axes[0], axes[1], 500).reshape(-1, 1),\n",
        "    np.linspace(axes[2], axes[3], 200).reshape(-1, 1),\n",
        ")\n",
        "X_new = np.c_[x0.ravel(), x1.ravel()]\n",
        "y_predict = per_clf.predict(X_new)\n",
        "zz = y_predict.reshape(x0.shape)\n",
        "custom_cmap = ListedColormap(['#9898ff', '#fafab0'])\n",
        "\n",
        "plt.figure(figsize=(7, 3))\n",
        "plt.plot(X[y == 0, 0], X[y == 0, 1], \"bs\", label=\"Not Iris setosa\")\n",
        "plt.plot(X[y == 1, 0], X[y == 1, 1], \"yo\", label=\"Iris setosa\")\n",
        "plt.plot([axes[0], axes[1]], [a * axes[0] + b, a * axes[1] + b], \"k-\",\n",
        "         linewidth=3)\n",
        "plt.contourf(x0, x1, zz, cmap=custom_cmap)\n",
        "plt.xlabel(\"Petal length\")\n",
        "plt.ylabel(\"Petal width\")\n",
        "plt.legend(loc=\"lower right\")\n",
        "plt.axis(axes)\n",
        "plt.show()"
      ],
      "metadata": {
        "colab": {
          "base_uri": "https://localhost:8080/",
          "height": 229
        },
        "id": "ITzyHu1xDSP1",
        "outputId": "c8884613-2b0d-43b5-f25e-0fc23c02587d"
      },
      "execution_count": null,
      "outputs": [
        {
          "output_type": "display_data",
          "data": {
            "text/plain": [
              "<Figure size 504x216 with 1 Axes>"
            ],
            "image/png": "[encoded data removed]"
          },
          "metadata": {
            "needs_background": "light"
          }
        }
      ]
    },
    {
      "cell_type": "code",
      "source": [
        "X_new = [[2, 0.5], [3, 1]]\n",
        "y_pred = per_clf.predict(X_new)  # predicts True and False for these 2 flowers\n",
        "print(y_pred)"
      ],
      "metadata": {
        "colab": {
          "base_uri": "https://localhost:8080/"
        },
        "id": "pRZZVb_0EB8l",
        "outputId": "dc50a2ed-1360-41c4-8273-152d0a9c5977"
      },
      "execution_count": null,
      "outputs": [
        {
          "output_type": "stream",
          "name": "stdout",
          "text": [
            "[ True False]\n"
          ]
        }
      ]
    },
    {
      "cell_type": "markdown",
      "source": [
        "# Using a MLP to predict California house price"
      ],
      "metadata": {
        "id": "Dwvl2RiuPtoo"
      }
    },
    {
      "cell_type": "code",
      "source": [
        "from sklearn.datasets import fetch_california_housing\n",
        "from sklearn.metrics import mean_squared_error\n",
        "from sklearn.model_selection import train_test_split\n",
        "from sklearn.neural_network import MLPRegressor\n",
        "from sklearn.pipeline import make_pipeline\n",
        "from sklearn.preprocessing import StandardScaler\n",
        "\n",
        "housing = fetch_california_housing()\n",
        "X_train_full, X_test, y_train_full, y_test = train_test_split(\n",
        "    housing.data, housing.target, random_state=42)\n",
        "X_train, X_valid, y_train, y_valid = train_test_split(\n",
        "    X_train_full, y_train_full, random_state=42)\n",
        "\n",
        "mlp_reg = MLPRegressor(hidden_layer_sizes=[50, 50, 50], random_state=42)\n",
        "pipeline = make_pipeline(StandardScaler(), mlp_reg)\n",
        "pipeline.fit(X_train, y_train)\n",
        "y_pred = pipeline.predict(X_valid)\n",
        "rmse = mean_squared_error(y_valid, y_pred, squared=False)"
      ],
      "metadata": {
        "id": "rsnRc9rOP3OD"
      },
      "execution_count": null,
      "outputs": []
    },
    {
      "cell_type": "code",
      "source": [
        "rmse"
      ],
      "metadata": {
        "colab": {
          "base_uri": "https://localhost:8080/"
        },
        "id": "hhgqMBZbQAPP",
        "outputId": "d6242138-2afa-44d9-b47d-6eeff464f7c0"
      },
      "execution_count": null,
      "outputs": [
        {
          "output_type": "execute_result",
          "data": {
            "text/plain": [
              "0.5053326657968679"
            ]
          },
          "metadata": {},
          "execution_count": 17
        }
      ]
    },
    {
      "cell_type": "markdown",
      "source": [
        "# Using MLP for iris classication"
      ],
      "metadata": {
        "id": "hwB4IG9WcSKY"
      }
    },
    {
      "cell_type": "code",
      "source": [
        "\n",
        "from sklearn.datasets import load_iris\n",
        "from sklearn.model_selection import train_test_split\n",
        "from sklearn.neural_network import MLPClassifier\n",
        "\n",
        "iris = load_iris()\n",
        "X_train_full, X_test, y_train_full, y_test = train_test_split(\n",
        "    iris.data, iris.target, test_size=0.1, random_state=42)\n",
        "X_train, X_valid, y_train, y_valid = train_test_split(\n",
        "    X_train_full, y_train_full, test_size=0.1, random_state=42)\n",
        "\n",
        "mlp_clf = MLPClassifier(hidden_layer_sizes=[5], max_iter=10_000,\n",
        "                        random_state=42)\n",
        "pipeline = make_pipeline(StandardScaler(), mlp_clf)\n",
        "pipeline.fit(X_train, y_train)\n",
        "accuracy = pipeline.score(X_valid, y_valid)\n",
        "accuracy"
      ],
      "metadata": {
        "colab": {
          "base_uri": "https://localhost:8080/"
        },
        "id": "pMxQUQuLcWIF",
        "outputId": "446a33e8-d063-444b-c6b1-9be25511c156"
      },
      "execution_count": null,
      "outputs": [
        {
          "output_type": "execute_result",
          "data": {
            "text/plain": [
              "1.0"
            ]
          },
          "metadata": {},
          "execution_count": 39
        }
      ]
    },
    {
      "cell_type": "code",
      "source": [
        "import numpy as np\n",
        "import matplotlib.pyplot as plt\n",
        "\n",
        "# Leaky Rectified Linear Unit (leaky ReLU) Activation Function\n",
        "def leaky_ReLU(x):\n",
        "  data = [max(0.05*value,value) for value in x]\n",
        "  return np.array(data, dtype=float)\n",
        "\n",
        "# Derivative for leaky ReLU \n",
        "def der_leaky_ReLU(x):\n",
        "  data = [1 if value>0 else 0.05 for value in x]\n",
        "  return np.array(data, dtype=float)\n",
        "\n",
        "# Generating data For Graph\n",
        "x_data = np.linspace(-10,10,100)\n",
        "y_data = leaky_ReLU(x_data)\n",
        "dy_data = der_leaky_ReLU(x_data)\n",
        "\n",
        "# Graph\n",
        "plt.plot(x_data, y_data, x_data, dy_data)\n",
        "plt.title('leaky ReLU Activation Function & Derivative')\n",
        "plt.legend(['leaky_ReLU','der_leaky_ReLU'])\n",
        "plt.grid()\n",
        "plt.show()"
      ],
      "metadata": {
        "id": "jEb0_O3wEOtE",
        "outputId": "729a80c1-db48-4e41-b1c7-207714ce6dd1",
        "colab": {
          "base_uri": "https://localhost:8080/",
          "height": 281
        }
      },
      "execution_count": null,
      "outputs": [
        {
          "output_type": "display_data",
          "data": {
            "text/plain": [
              "<Figure size 432x288 with 1 Axes>"
            ],
            "image/png": "[encoded data removed]"
          },
          "metadata": {
            "needs_background": "light"
          }
        }
      ]
    },
    {
      "cell_type": "markdown",
      "source": [
        "## Using keras to build an MLP"
      ],
      "metadata": {
        "id": "GwQla5_Je-fv"
      }
    },
    {
      "cell_type": "code",
      "source": [
        "import tensorflow as tf\n",
        "\n",
        "fashion_mnist = tf.keras.datasets.fashion_mnist.load_data()\n",
        "(X_train_full, y_train_full), (X_test, y_test) = fashion_mnist\n",
        "X_train, y_train = X_train_full[:-5000], y_train_full[:-5000]\n",
        "X_valid, y_valid = X_train_full[-5000:], y_train_full[-5000:]"
      ],
      "metadata": {
        "id": "CwlsNTdZfCbl"
      },
      "execution_count": null,
      "outputs": []
    },
    {
      "cell_type": "code",
      "source": [
        "X_train.shape"
      ],
      "metadata": {
        "colab": {
          "base_uri": "https://localhost:8080/"
        },
        "id": "FDa8Ql__fG0t",
        "outputId": "dc4b2dd1-3992-4a35-a7f7-36703d579e44"
      },
      "execution_count": null,
      "outputs": [
        {
          "output_type": "execute_result",
          "data": {
            "text/plain": [
              "(55000, 28, 28)"
            ]
          },
          "metadata": {},
          "execution_count": 21
        }
      ]
    },
    {
      "cell_type": "code",
      "source": [
        "X_train.dtype"
      ],
      "metadata": {
        "colab": {
          "base_uri": "https://localhost:8080/"
        },
        "id": "Fp377e7PfI-R",
        "outputId": "79f9b54f-e4b3-42b3-9920-10574a4048b0"
      },
      "execution_count": null,
      "outputs": [
        {
          "output_type": "execute_result",
          "data": {
            "text/plain": [
              "dtype('uint8')"
            ]
          },
          "metadata": {},
          "execution_count": 22
        }
      ]
    },
    {
      "cell_type": "code",
      "source": [
        "X_train, X_valid, X_test = X_train / 255., X_valid / 255., X_test / 255."
      ],
      "metadata": {
        "id": "KSmpu4a-fMRL"
      },
      "execution_count": null,
      "outputs": []
    },
    {
      "cell_type": "code",
      "source": [
        "plt.imshow(X_train[0], cmap=\"binary\")\n",
        "plt.axis('off')\n",
        "plt.show()"
      ],
      "metadata": {
        "colab": {
          "base_uri": "https://localhost:8080/",
          "height": 248
        },
        "id": "e3HXwO2CfO61",
        "outputId": "fa8a9a87-befb-4e65-ebf4-52cd03b1be15"
      },
      "execution_count": null,
      "outputs": [
        {
          "output_type": "display_data",
          "data": {
            "text/plain": [
              "<Figure size 432x288 with 1 Axes>"
            ],
            "image/png": "[encoded data removed]"
          },
          "metadata": {
            "needs_background": "light"
          }
        }
      ]
    },
    {
      "cell_type": "code",
      "source": [
        "y_train\n",
        "class_names = [\"T-shirt/top\", \"Trouser\", \"Pullover\", \"Dress\", \"Coat\",\n",
        "               \"Sandal\", \"Shirt\", \"Sneaker\", \"Bag\", \"Ankle boot\"]\n",
        "class_names[y_train[0]]\n"
      ],
      "metadata": {
        "colab": {
          "base_uri": "https://localhost:8080/",
          "height": 35
        },
        "id": "jru2unEVfSEi",
        "outputId": "d6a0bd60-4711-4b20-e810-5788223e348c"
      },
      "execution_count": null,
      "outputs": [
        {
          "output_type": "execute_result",
          "data": {
            "text/plain": [
              "'Ankle boot'"
            ],
            "application/vnd.google.colaboratory.intrinsic+json": {
              "type": "string"
            }
          },
          "metadata": {},
          "execution_count": 44
        }
      ]
    },
    {
      "cell_type": "code",
      "source": [
        "import os\n",
        "import matplotlib.pyplot as plt\n",
        "\n",
        "# Where to save the figures\n",
        "\n",
        "\n",
        "def save_fig(fig_id, tight_layout=True):\n",
        "    path = os.path.join(fig_id + \".png\")\n",
        "    print(\"Saving figure\", fig_id)\n",
        "    if tight_layout:\n",
        "        plt.tight_layout()\n",
        "    plt.savefig(path, format='png', dpi=300)"
      ],
      "metadata": {
        "id": "uOOW8Bl5i23J"
      },
      "execution_count": null,
      "outputs": []
    },
    {
      "cell_type": "code",
      "source": [
        "n_rows = 4\n",
        "n_cols = 10\n",
        "plt.figure(figsize=(n_cols * 1.2, n_rows * 1.2))\n",
        "for row in range(n_rows):\n",
        "    for col in range(n_cols):\n",
        "        index = n_cols * row + col\n",
        "        plt.subplot(n_rows, n_cols, index + 1)\n",
        "        plt.imshow(X_train[index], cmap=\"binary\", interpolation=\"nearest\")\n",
        "        plt.axis('off')\n",
        "        plt.title(class_names[y_train[index]])\n",
        "plt.subplots_adjust(wspace=0.2, hspace=0.5)\n",
        "save_fig('./fashion_mnist_images_plot', tight_layout=False)\n",
        "\n",
        "plt.show()"
      ],
      "metadata": {
        "colab": {
          "base_uri": "https://localhost:8080/",
          "height": 325
        },
        "id": "CQGHNfb-fdcZ",
        "outputId": "e945c430-bba5-4a10-87c3-2babe189bc24"
      },
      "execution_count": null,
      "outputs": [
        {
          "output_type": "stream",
          "name": "stdout",
          "text": [
            "Saving figure ./fashion_mnist_images_plot\n"
          ]
        },
        {
          "output_type": "display_data",
          "data": {
            "text/plain": [
              "<Figure size 864x345.6 with 40 Axes>"
            ],
            "image/png": "[encoded data removed]"
          },
          "metadata": {
            "needs_background": "light"
          }
        }
      ]
    },
    {
      "cell_type": "code",
      "source": [
        "tf.random.set_seed(42)\n",
        "norm_layer = tf.keras.layers.Normalization(input_shape=X_train.shape[1:])\n",
        "model = tf.keras.Sequential([\n",
        "    norm_layer,\n",
        "    tf.keras.layers.Dense(50, activation=\"relu\"),\n",
        "    tf.keras.layers.Dense(50, activation=\"relu\"),\n",
        "    tf.keras.layers.Dense(50, activation=\"relu\"),\n",
        "    tf.keras.layers.Dense(1)\n",
        "])\n",
        "optimizer = tf.keras.optimizers.Adam(learning_rate=1e-3)\n",
        "model.compile(loss=\"mse\", optimizer=optimizer, metrics=[\"RootMeanSquaredError\"])\n",
        "norm_layer.adapt(X_train)\n",
        "history = model.fit(X_train, y_train, epochs=20,\n",
        "                    validation_data=(X_valid, y_valid))\n",
        "mse_test, rmse_test = model.evaluate(X_test, y_test)\n",
        "X_new = X_test[:3]\n",
        "y_pred = model.predict(X_new)"
      ],
      "metadata": {
        "colab": {
          "base_uri": "https://localhost:8080/"
        },
        "id": "L-fdn3R6i2Jg",
        "outputId": "b8f1d301-e1a1-402a-f8f0-5d6df83f57a2"
      },
      "execution_count": null,
      "outputs": [
        {
          "output_type": "stream",
          "name": "stdout",
          "text": [
            "Epoch 1/20\n",
            "1719/1719 [==============================] - 14s 7ms/step - loss: 8.6141 - root_mean_squared_error: 2.9350 - val_loss: 8.4200 - val_root_mean_squared_error: 2.9019\n",
            "Epoch 2/20\n",
            "1719/1719 [==============================] - 10s 6ms/step - loss: 8.3020 - root_mean_squared_error: 2.8813 - val_loss: 8.3921 - val_root_mean_squared_error: 2.8971\n",
            "Epoch 3/20\n",
            "1719/1719 [==============================] - 10s 6ms/step - loss: 8.2860 - root_mean_squared_error: 2.8786 - val_loss: 8.4249 - val_root_mean_squared_error: 2.9027\n",
            "Epoch 4/20\n",
            "1719/1719 [==============================] - 10s 6ms/step - loss: 8.2794 - root_mean_squared_error: 2.8774 - val_loss: 8.4382 - val_root_mean_squared_error: 2.9050\n",
            "Epoch 5/20\n",
            "1719/1719 [==============================] - 13s 7ms/step - loss: 8.2720 - root_mean_squared_error: 2.8761 - val_loss: 8.3909 - val_root_mean_squared_error: 2.8969\n",
            "Epoch 6/20\n",
            "1719/1719 [==============================] - 12s 7ms/step - loss: 8.2635 - root_mean_squared_error: 2.8747 - val_loss: 8.3682 - val_root_mean_squared_error: 2.8930\n",
            "Epoch 7/20\n",
            "1719/1719 [==============================] - 11s 6ms/step - loss: 8.2678 - root_mean_squared_error: 2.8753 - val_loss: 8.3779 - val_root_mean_squared_error: 2.8947\n",
            "Epoch 8/20\n",
            "1719/1719 [==============================] - 10s 6ms/step - loss: 8.2611 - root_mean_squared_error: 2.8742 - val_loss: 8.3682 - val_root_mean_squared_error: 2.8930\n",
            "Epoch 9/20\n",
            "1719/1719 [==============================] - 10s 6ms/step - loss: 8.2576 - root_mean_squared_error: 2.8736 - val_loss: 8.3673 - val_root_mean_squared_error: 2.8928\n",
            "Epoch 10/20\n",
            "1719/1719 [==============================] - 10s 6ms/step - loss: 8.2548 - root_mean_squared_error: 2.8732 - val_loss: 8.3794 - val_root_mean_squared_error: 2.8949\n",
            "Epoch 11/20\n",
            "1719/1719 [==============================] - 10s 6ms/step - loss: 8.2550 - root_mean_squared_error: 2.8731 - val_loss: 8.3694 - val_root_mean_squared_error: 2.8932\n",
            "Epoch 12/20\n",
            "1719/1719 [==============================] - 9s 5ms/step - loss: 8.2513 - root_mean_squared_error: 2.8725 - val_loss: 8.3981 - val_root_mean_squared_error: 2.8981\n",
            "Epoch 13/20\n",
            "1719/1719 [==============================] - 10s 6ms/step - loss: 8.2505 - root_mean_squared_error: 2.8724 - val_loss: 8.4112 - val_root_mean_squared_error: 2.9003\n",
            "Epoch 14/20\n",
            "1719/1719 [==============================] - 10s 6ms/step - loss: 8.2484 - root_mean_squared_error: 2.8720 - val_loss: 8.3659 - val_root_mean_squared_error: 2.8926\n",
            "Epoch 15/20\n",
            "1719/1719 [==============================] - 11s 6ms/step - loss: 8.2488 - root_mean_squared_error: 2.8721 - val_loss: 8.3662 - val_root_mean_squared_error: 2.8926\n",
            "Epoch 16/20\n",
            "1719/1719 [==============================] - 9s 5ms/step - loss: 8.2468 - root_mean_squared_error: 2.8717 - val_loss: 8.3670 - val_root_mean_squared_error: 2.8928\n",
            "Epoch 17/20\n",
            "1719/1719 [==============================] - 10s 6ms/step - loss: 8.2456 - root_mean_squared_error: 2.8715 - val_loss: 8.3894 - val_root_mean_squared_error: 2.8966\n",
            "Epoch 18/20\n",
            "1719/1719 [==============================] - 10s 6ms/step - loss: 8.2475 - root_mean_squared_error: 2.8718 - val_loss: 8.3659 - val_root_mean_squared_error: 2.8926\n",
            "Epoch 19/20\n",
            "1719/1719 [==============================] - 10s 6ms/step - loss: 8.2463 - root_mean_squared_error: 2.8717 - val_loss: 8.3668 - val_root_mean_squared_error: 2.8927\n",
            "Epoch 20/20\n",
            "1719/1719 [==============================] - 10s 6ms/step - loss: 8.2477 - root_mean_squared_error: 2.8719 - val_loss: 8.3661 - val_root_mean_squared_error: 2.8926\n",
            "313/313 [==============================] - 1s 3ms/step - loss: 8.2481 - root_mean_squared_error: 2.8719\n",
            "1/1 [==============================] - 0s 165ms/step\n"
          ]
        }
      ]
    },
    {
      "cell_type": "code",
      "source": [
        "# Plot the learning curves\n",
        "plt.plot(history.history['root_mean_squared_error'], label='RMSE on training data')\n",
        "plt.plot(history.history['val_root_mean_squared_error'], label='RMSE on validation data')\n",
        "plt.xlabel('Epoch')\n",
        "plt.ylabel('RMSE')\n",
        "plt.legend()\n",
        "plt.show()"
      ],
      "metadata": {
        "colab": {
          "base_uri": "https://localhost:8080/",
          "height": 279
        },
        "id": "XglcSWk5jZcM",
        "outputId": "cf98f40a-b3a9-433c-d98f-2b9dbfde456a"
      },
      "execution_count": null,
      "outputs": [
        {
          "output_type": "display_data",
          "data": {
            "text/plain": [
              "<Figure size 432x288 with 1 Axes>"
            ],
            "image/png": "[encoded data removed]"
          },
          "metadata": {
            "needs_background": "light"
          }
        }
      ]
    },
    {
      "cell_type": "code",
      "source": [
        "X_new = X_test[:3]\n",
        "y_proba = model.predict(X_new)\n",
        "y_proba.round(2)\n",
        "y_pred = y_proba.argmax(axis=-1)\n",
        "y_pred\n",
        "np.array(class_names)[y_pred]\n",
        "y_new = y_test[:3]\n",
        "y_new\n",
        "plt.figure(figsize=(7.2, 2.4))\n",
        "for index, image in enumerate(X_new):\n",
        "    plt.subplot(1, 3, index + 1)\n",
        "    plt.imshow(image, cmap=\"binary\", interpolation=\"nearest\")\n",
        "    plt.axis('off')\n",
        "    plt.title(class_names[y_test[index]])\n",
        "plt.subplots_adjust(wspace=0.2, hspace=0.5)\n",
        "save_fig('fashion_mnist_images_plot', tight_layout=False)\n",
        "plt.show()"
      ],
      "metadata": {
        "id": "sbTeTo3zzCwr",
        "colab": {
          "base_uri": "https://localhost:8080/",
          "height": 200
        },
        "outputId": "83511bf2-655b-4264-b811-73743e03b11f"
      },
      "execution_count": null,
      "outputs": [
        {
          "output_type": "stream",
          "name": "stdout",
          "text": [
            "1/1 [==============================] - 0s 24ms/step\n",
            "Saving figure fashion_mnist_images_plot\n"
          ]
        },
        {
          "output_type": "display_data",
          "data": {
            "text/plain": [
              "<Figure size 518.4x172.8 with 3 Axes>"
            ],
            "image/png": "[encoded data removed]"
          },
          "metadata": {
            "needs_background": "light"
          }
        }
      ]
    },
    {
      "cell_type": "markdown",
      "source": [
        "# Use a Keras model to do land use  land cover classification"
      ],
      "metadata": {
        "id": "12qbN3iPETiX"
      }
    },
    {
      "cell_type": "markdown",
      "source": [
        "## read the training dataset\n",
        "Download the csv file from here and upload it to your colab workspace\n",
        "https://drive.google.com/file/d/1L-OtACGQSoE_fY72zVgAF4i5xj48F_za/view?usp=share_link\n",
        "\n",
        "\n",
        "\n",
        "\n"
      ],
      "metadata": {
        "id": "qQQBz1wiEf2n"
      }
    },
    {
      "cell_type": "markdown",
      "source": [
        "## Build a 4-layer perceptron"
      ],
      "metadata": {
        "id": "k6GNpjUkJ6Of"
      }
    },
    {
      "cell_type": "markdown",
      "source": [
        "### Define and compile the model"
      ],
      "metadata": {
        "id": "fa3zT-K8Kd_l"
      }
    },
    {
      "cell_type": "code",
      "source": [
        "import tensorflow as tf\n",
        "import pandas as pd\n",
        "import numpy as np\n",
        "from sklearn.preprocessing import LabelEncoder\n",
        "\n",
        "# Load the data\n",
        "data = pd.read_csv('all_samples.csv')\n",
        "x = data[['b1_ls8', 'b2_ls8', 'b3_ls8','b4_ls8','b5_ls8','b6_ls8','b7_ls8']].to_numpy()\n",
        "y = data['Classvalue'].to_numpy()\n",
        "\n",
        "# Convert y to one-hot encoding\n",
        "y = data['Classvalue']\n",
        "le = LabelEncoder()\n",
        "\n",
        "# Fit and transform y to integer labels\n",
        "y_encoded = le.fit_transform(y)\n",
        "y = tf.keras.utils.to_categorical(y_encoded,num_classes = 7)\n",
        "normLayer = tf.keras.layers.Normalization(input_shape = x.shape[1:])\n",
        "\n",
        "# Define the model architecture\n",
        "model = tf.keras.Sequential([\n",
        "    tf.keras.layers.Dense(32, activation='relu', input_shape=(7,)),\n",
        "    tf.keras.layers.Dense(32, activation='relu'),\n",
        "    tf.keras.layers.Dense(7, activation='softmax')\n",
        "])\n",
        "\n",
        "opt_adm = tf.keras.optimizers.Adam(learning_rate = 0.01, beta_1 = 0.9, beta_2 = 0.999)\n",
        "# Compile the model\n",
        "model.compile(optimizer=\"adam\", loss='categorical_crossentropy', metrics=['accuracy'])\n",
        "model.summary()\n",
        "\n"
      ],
      "metadata": {
        "colab": {
          "base_uri": "https://localhost:8080/"
        },
        "id": "lGe6Hzs4EZnm",
        "outputId": "60132d68-e869-4988-ed92-cdd01777eaf8"
      },
      "execution_count": null,
      "outputs": [
        {
          "output_type": "stream",
          "name": "stdout",
          "text": [
            "Model: \"sequential_11\"\n",
            "_________________________________________________________________\n",
            " Layer (type)                Output Shape              Param #   \n",
            "=================================================================\n",
            " dense_33 (Dense)            (None, 32)                256       \n",
            "                                                                 \n",
            " dense_34 (Dense)            (None, 32)                1056      \n",
            "                                                                 \n",
            " dense_35 (Dense)            (None, 7)                 231       \n",
            "                                                                 \n",
            "=================================================================\n",
            "Total params: 1,543\n",
            "Trainable params: 1,543\n",
            "Non-trainable params: 0\n",
            "_________________________________________________________________\n"
          ]
        }
      ]
    },
    {
      "cell_type": "code",
      "source": [
        "y"
      ],
      "metadata": {
        "id": "bQb8izmf63W8",
        "outputId": "41fb50ce-1155-4de6-8691-7f9c699bfaad",
        "colab": {
          "base_uri": "https://localhost:8080/"
        }
      },
      "execution_count": null,
      "outputs": [
        {
          "output_type": "execute_result",
          "data": {
            "text/plain": [
              "array([[1., 0., 0., ..., 0., 0., 0.],\n",
              "       [1., 0., 0., ..., 0., 0., 0.],\n",
              "       [1., 0., 0., ..., 0., 0., 0.],\n",
              "       ...,\n",
              "       [0., 0., 0., ..., 0., 0., 0.],\n",
              "       [0., 0., 0., ..., 0., 0., 0.],\n",
              "       [0., 0., 0., ..., 0., 0., 0.]], dtype=float32)"
            ]
          },
          "metadata": {},
          "execution_count": 3
        }
      ]
    },
    {
      "cell_type": "markdown",
      "source": [
        "### Train the model"
      ],
      "metadata": {
        "id": "v1cnrVxUKiwM"
      }
    },
    {
      "cell_type": "code",
      "source": [
        "history = model.fit(x, y, epochs=50, batch_size=32, validation_split=0.3)"
      ],
      "metadata": {
        "colab": {
          "base_uri": "https://localhost:8080/"
        },
        "id": "q8vc6PJwFs5a",
        "outputId": "34732f78-7be3-44b4-88b8-a225aa17eb95"
      },
      "execution_count": null,
      "outputs": [
        {
          "output_type": "stream",
          "name": "stdout",
          "text": [
            "Epoch 1/50\n",
            "306/306 [==============================] - 3s 5ms/step - loss: 1.3198 - accuracy: 0.5309 - val_loss: 2.7988 - val_accuracy: 0.2362\n",
            "Epoch 2/50\n",
            "306/306 [==============================] - 1s 3ms/step - loss: 0.9639 - accuracy: 0.6470 - val_loss: 3.0815 - val_accuracy: 0.2362\n",
            "Epoch 3/50\n",
            "306/306 [==============================] - 1s 3ms/step - loss: 0.8415 - accuracy: 0.7246 - val_loss: 2.9110 - val_accuracy: 0.2365\n",
            "Epoch 4/50\n",
            "306/306 [==============================] - 1s 3ms/step - loss: 0.7629 - accuracy: 0.7549 - val_loss: 2.6975 - val_accuracy: 0.2365\n",
            "Epoch 5/50\n",
            "306/306 [==============================] - 2s 6ms/step - loss: 0.7021 - accuracy: 0.7809 - val_loss: 2.4267 - val_accuracy: 0.2367\n",
            "Epoch 6/50\n",
            "306/306 [==============================] - 2s 5ms/step - loss: 0.6511 - accuracy: 0.7911 - val_loss: 1.9260 - val_accuracy: 0.2367\n",
            "Epoch 7/50\n",
            "306/306 [==============================] - 2s 5ms/step - loss: 0.6134 - accuracy: 0.7962 - val_loss: 1.5138 - val_accuracy: 0.4178\n",
            "Epoch 8/50\n",
            "306/306 [==============================] - 1s 3ms/step - loss: 0.5909 - accuracy: 0.8061 - val_loss: 1.1483 - val_accuracy: 0.4321\n",
            "Epoch 9/50\n",
            "306/306 [==============================] - 1s 3ms/step - loss: 0.5787 - accuracy: 0.8096 - val_loss: 0.9613 - val_accuracy: 0.4338\n",
            "Epoch 10/50\n",
            "306/306 [==============================] - 1s 3ms/step - loss: 0.5672 - accuracy: 0.8140 - val_loss: 0.9055 - val_accuracy: 0.4751\n",
            "Epoch 11/50\n",
            "306/306 [==============================] - 1s 3ms/step - loss: 0.5599 - accuracy: 0.8158 - val_loss: 0.7989 - val_accuracy: 0.9077\n",
            "Epoch 12/50\n",
            "306/306 [==============================] - 1s 3ms/step - loss: 0.5541 - accuracy: 0.8169 - val_loss: 0.7431 - val_accuracy: 0.9074\n",
            "Epoch 13/50\n",
            "306/306 [==============================] - 1s 3ms/step - loss: 0.5485 - accuracy: 0.8182 - val_loss: 0.7290 - val_accuracy: 0.9041\n",
            "Epoch 14/50\n",
            "306/306 [==============================] - 1s 3ms/step - loss: 0.5428 - accuracy: 0.8190 - val_loss: 0.7668 - val_accuracy: 0.9022\n",
            "Epoch 15/50\n",
            "306/306 [==============================] - 1s 3ms/step - loss: 0.5390 - accuracy: 0.8201 - val_loss: 0.7034 - val_accuracy: 0.9081\n",
            "Epoch 16/50\n",
            "306/306 [==============================] - 1s 3ms/step - loss: 0.5343 - accuracy: 0.8211 - val_loss: 0.6976 - val_accuracy: 0.9058\n",
            "Epoch 17/50\n",
            "306/306 [==============================] - 1s 3ms/step - loss: 0.5316 - accuracy: 0.8216 - val_loss: 0.6589 - val_accuracy: 0.9091\n",
            "Epoch 18/50\n",
            "306/306 [==============================] - 1s 3ms/step - loss: 0.5274 - accuracy: 0.8224 - val_loss: 0.6838 - val_accuracy: 0.9077\n",
            "Epoch 19/50\n",
            "306/306 [==============================] - 2s 5ms/step - loss: 0.5253 - accuracy: 0.8218 - val_loss: 0.7497 - val_accuracy: 0.9015\n",
            "Epoch 20/50\n",
            "306/306 [==============================] - 1s 4ms/step - loss: 0.5222 - accuracy: 0.8240 - val_loss: 0.7701 - val_accuracy: 0.5555\n",
            "Epoch 21/50\n",
            "306/306 [==============================] - 1s 3ms/step - loss: 0.5211 - accuracy: 0.8230 - val_loss: 0.7119 - val_accuracy: 0.9074\n",
            "Epoch 22/50\n",
            "306/306 [==============================] - 1s 3ms/step - loss: 0.5189 - accuracy: 0.8253 - val_loss: 0.7147 - val_accuracy: 0.9060\n",
            "Epoch 23/50\n",
            "306/306 [==============================] - 1s 3ms/step - loss: 0.5164 - accuracy: 0.8245 - val_loss: 0.7451 - val_accuracy: 0.9031\n",
            "Epoch 24/50\n",
            "306/306 [==============================] - 1s 3ms/step - loss: 0.5164 - accuracy: 0.8251 - val_loss: 0.6999 - val_accuracy: 0.9060\n",
            "Epoch 25/50\n",
            "306/306 [==============================] - 1s 3ms/step - loss: 0.5149 - accuracy: 0.8259 - val_loss: 0.7353 - val_accuracy: 0.9069\n",
            "Epoch 26/50\n",
            "306/306 [==============================] - 1s 3ms/step - loss: 0.5117 - accuracy: 0.8264 - val_loss: 0.7020 - val_accuracy: 0.9084\n",
            "Epoch 27/50\n",
            "306/306 [==============================] - 1s 3ms/step - loss: 0.5109 - accuracy: 0.8261 - val_loss: 0.6770 - val_accuracy: 0.9074\n",
            "Epoch 28/50\n",
            "306/306 [==============================] - 1s 3ms/step - loss: 0.5105 - accuracy: 0.8273 - val_loss: 0.7312 - val_accuracy: 0.9031\n",
            "Epoch 29/50\n",
            "306/306 [==============================] - 1s 3ms/step - loss: 0.5099 - accuracy: 0.8255 - val_loss: 0.7087 - val_accuracy: 0.9053\n",
            "Epoch 30/50\n",
            "306/306 [==============================] - 1s 3ms/step - loss: 0.5094 - accuracy: 0.8272 - val_loss: 0.6409 - val_accuracy: 0.9062\n",
            "Epoch 31/50\n",
            "306/306 [==============================] - 1s 4ms/step - loss: 0.5081 - accuracy: 0.8281 - val_loss: 0.7025 - val_accuracy: 0.9048\n",
            "Epoch 32/50\n",
            "306/306 [==============================] - 1s 4ms/step - loss: 0.5056 - accuracy: 0.8275 - val_loss: 0.7587 - val_accuracy: 0.9024\n",
            "Epoch 33/50\n",
            "306/306 [==============================] - 1s 4ms/step - loss: 0.5060 - accuracy: 0.8283 - val_loss: 0.6819 - val_accuracy: 0.9058\n",
            "Epoch 34/50\n",
            "306/306 [==============================] - 1s 3ms/step - loss: 0.5051 - accuracy: 0.8283 - val_loss: 0.6989 - val_accuracy: 0.9048\n",
            "Epoch 35/50\n",
            "306/306 [==============================] - 1s 3ms/step - loss: 0.5028 - accuracy: 0.8287 - val_loss: 0.7198 - val_accuracy: 0.9019\n",
            "Epoch 36/50\n",
            "306/306 [==============================] - 1s 3ms/step - loss: 0.5048 - accuracy: 0.8269 - val_loss: 0.7053 - val_accuracy: 0.9050\n",
            "Epoch 37/50\n",
            "306/306 [==============================] - 1s 3ms/step - loss: 0.5025 - accuracy: 0.8284 - val_loss: 0.7509 - val_accuracy: 0.9041\n",
            "Epoch 38/50\n",
            "306/306 [==============================] - 1s 3ms/step - loss: 0.5011 - accuracy: 0.8307 - val_loss: 0.7167 - val_accuracy: 0.9026\n",
            "Epoch 39/50\n",
            "306/306 [==============================] - 1s 3ms/step - loss: 0.5006 - accuracy: 0.8298 - val_loss: 0.7228 - val_accuracy: 0.9043\n",
            "Epoch 40/50\n",
            "306/306 [==============================] - 1s 3ms/step - loss: 0.5012 - accuracy: 0.8298 - val_loss: 0.8057 - val_accuracy: 0.8268\n",
            "Epoch 41/50\n",
            "306/306 [==============================] - 1s 3ms/step - loss: 0.4990 - accuracy: 0.8313 - val_loss: 0.7489 - val_accuracy: 0.9019\n",
            "Epoch 42/50\n",
            "306/306 [==============================] - 1s 3ms/step - loss: 0.4981 - accuracy: 0.8297 - val_loss: 0.7074 - val_accuracy: 0.9019\n",
            "Epoch 43/50\n",
            "306/306 [==============================] - 1s 4ms/step - loss: 0.4996 - accuracy: 0.8301 - val_loss: 0.7504 - val_accuracy: 0.9024\n",
            "Epoch 44/50\n",
            "306/306 [==============================] - 1s 4ms/step - loss: 0.4976 - accuracy: 0.8294 - val_loss: 0.7217 - val_accuracy: 0.9038\n",
            "Epoch 45/50\n",
            "306/306 [==============================] - 1s 5ms/step - loss: 0.4973 - accuracy: 0.8297 - val_loss: 0.7227 - val_accuracy: 0.9036\n",
            "Epoch 46/50\n",
            "306/306 [==============================] - 1s 3ms/step - loss: 0.4962 - accuracy: 0.8310 - val_loss: 0.7094 - val_accuracy: 0.9034\n",
            "Epoch 47/50\n",
            "306/306 [==============================] - 1s 3ms/step - loss: 0.4947 - accuracy: 0.8321 - val_loss: 0.8064 - val_accuracy: 0.8115\n",
            "Epoch 48/50\n",
            "306/306 [==============================] - 1s 3ms/step - loss: 0.4945 - accuracy: 0.8327 - val_loss: 0.8689 - val_accuracy: 0.6287\n",
            "Epoch 49/50\n",
            "306/306 [==============================] - 1s 3ms/step - loss: 0.4945 - accuracy: 0.8314 - val_loss: 0.6918 - val_accuracy: 0.9072\n",
            "Epoch 50/50\n",
            "306/306 [==============================] - 1s 3ms/step - loss: 0.4927 - accuracy: 0.8323 - val_loss: 0.7845 - val_accuracy: 0.8113\n"
          ]
        }
      ]
    },
    {
      "cell_type": "markdown",
      "source": [
        "### plot the learning curves"
      ],
      "metadata": {
        "id": "J-XzP4YQKX0s"
      }
    },
    {
      "cell_type": "code",
      "source": [
        "import matplotlib.pyplot as plt\n",
        "\n",
        "train_acc = history.history['accuracy']\n",
        "val_acc = history.history['val_accuracy']\n",
        "train_loss = history.history['loss']\n",
        "val_loss = history.history['val_loss']\n",
        "\n",
        "# Create the plot\n",
        "plt.plot(train_acc, label='Training Accuracy')\n",
        "plt.plot(val_acc, label='Validation Accuracy')\n",
        "plt.plot(train_loss, label='Training Loss')\n",
        "plt.plot(val_loss, label='Validation Loss')\n",
        "\n",
        "# Add a title and labels to the plot\n",
        "plt.title('Training and Validation Metrics and Loss')\n",
        "plt.xlabel('Epoch')\n",
        "plt.ylabel('Metric/Loss')\n",
        "plt.ylim([0.3, 1])\n",
        "# Add a legend to the plot\n",
        "plt.legend()\n",
        "\n",
        "# Show the plot\n",
        "plt.show()"
      ],
      "metadata": {
        "colab": {
          "base_uri": "https://localhost:8080/",
          "height": 295
        },
        "id": "oQjC85AQJzyg",
        "outputId": "33136c0f-5378-41de-97ce-648ad81bf13a"
      },
      "execution_count": null,
      "outputs": [
        {
          "output_type": "display_data",
          "data": {
            "text/plain": [
              "<Figure size 432x288 with 1 Axes>"
            ],
            "image/png": "[encoded data removed]"
          },
          "metadata": {
            "needs_background": "light"
          }
        }
      ]
    },
    {
      "cell_type": "markdown",
      "source": [
        "### Add some dropouts"
      ],
      "metadata": {
        "id": "FO2FWMcXKSL0"
      }
    },
    {
      "cell_type": "code",
      "source": [
        "# Define the model architecture\n",
        "model = tf.keras.Sequential([\n",
        "    tf.keras.layers.Dense(64, activation='relu', input_shape=(7,)),\n",
        "    tf.keras.layers.Dropout(0.5),\n",
        "    tf.keras.layers.Dense(32, activation='relu'),\n",
        "    tf.keras.layers.Dropout(0.5),\n",
        "    tf.keras.layers.Dense(7, activation='softmax')\n",
        "])\n",
        "\n",
        "# Compile the model\n",
        "model.compile(optimizer='adam', loss='categorical_crossentropy', metrics=['accuracy'])\n",
        "\n",
        "# Train the model\n",
        "model.fit(x, y, epochs=50, batch_size=32, validation_split=0.1)"
      ],
      "metadata": {
        "id": "hiBpW_iaKRcz",
        "colab": {
          "base_uri": "https://localhost:8080/"
        },
        "outputId": "7ce61ad4-0664-4172-a225-c71fc69c5a12"
      },
      "execution_count": null,
      "outputs": [
        {
          "output_type": "stream",
          "name": "stdout",
          "text": [
            "Epoch 1/50\n",
            "393/393 [==============================] - 2s 3ms/step - loss: 1.4450 - accuracy: 0.4764 - val_loss: 0.4572 - val_accuracy: 0.9936\n",
            "Epoch 2/50\n",
            "393/393 [==============================] - 1s 2ms/step - loss: 1.0308 - accuracy: 0.6291 - val_loss: 0.2742 - val_accuracy: 0.9900\n",
            "Epoch 3/50\n",
            "393/393 [==============================] - 1s 2ms/step - loss: 0.8709 - accuracy: 0.6966 - val_loss: 0.2340 - val_accuracy: 0.9778\n",
            "Epoch 4/50\n",
            "393/393 [==============================] - 1s 2ms/step - loss: 0.7964 - accuracy: 0.7354 - val_loss: 0.2222 - val_accuracy: 0.9764\n",
            "Epoch 5/50\n",
            "393/393 [==============================] - 1s 3ms/step - loss: 0.7445 - accuracy: 0.7541 - val_loss: 0.2199 - val_accuracy: 0.9764\n",
            "Epoch 6/50\n",
            "393/393 [==============================] - 1s 3ms/step - loss: 0.7215 - accuracy: 0.7674 - val_loss: 0.2139 - val_accuracy: 0.9792\n",
            "Epoch 7/50\n",
            "393/393 [==============================] - 1s 3ms/step - loss: 0.6991 - accuracy: 0.7746 - val_loss: 0.2106 - val_accuracy: 0.9771\n",
            "Epoch 8/50\n",
            "393/393 [==============================] - 1s 2ms/step - loss: 0.6840 - accuracy: 0.7806 - val_loss: 0.3265 - val_accuracy: 0.9170\n",
            "Epoch 9/50\n",
            "393/393 [==============================] - 2s 4ms/step - loss: 0.6771 - accuracy: 0.7855 - val_loss: 0.2368 - val_accuracy: 0.9714\n",
            "Epoch 10/50\n",
            "393/393 [==============================] - 1s 2ms/step - loss: 0.6559 - accuracy: 0.7897 - val_loss: 0.2176 - val_accuracy: 0.9692\n",
            "Epoch 11/50\n",
            "393/393 [==============================] - 1s 2ms/step - loss: 0.6526 - accuracy: 0.7947 - val_loss: 0.2259 - val_accuracy: 0.9621\n",
            "Epoch 12/50\n",
            "393/393 [==============================] - 1s 2ms/step - loss: 0.6384 - accuracy: 0.7955 - val_loss: 0.2326 - val_accuracy: 0.9621\n",
            "Epoch 13/50\n",
            "393/393 [==============================] - 1s 2ms/step - loss: 0.6325 - accuracy: 0.7962 - val_loss: 0.2084 - val_accuracy: 0.9606\n",
            "Epoch 14/50\n",
            "393/393 [==============================] - 1s 2ms/step - loss: 0.6312 - accuracy: 0.7960 - val_loss: 0.2196 - val_accuracy: 0.9649\n",
            "Epoch 15/50\n",
            "393/393 [==============================] - 1s 2ms/step - loss: 0.6263 - accuracy: 0.8023 - val_loss: 0.2475 - val_accuracy: 0.9506\n",
            "Epoch 16/50\n",
            "393/393 [==============================] - 1s 2ms/step - loss: 0.6208 - accuracy: 0.8015 - val_loss: 0.2996 - val_accuracy: 0.9284\n",
            "Epoch 17/50\n",
            "393/393 [==============================] - 1s 2ms/step - loss: 0.6119 - accuracy: 0.8022 - val_loss: 0.2265 - val_accuracy: 0.9649\n",
            "Epoch 18/50\n",
            "393/393 [==============================] - 1s 3ms/step - loss: 0.6153 - accuracy: 0.8043 - val_loss: 0.2307 - val_accuracy: 0.9692\n",
            "Epoch 19/50\n",
            "393/393 [==============================] - 1s 3ms/step - loss: 0.6089 - accuracy: 0.8056 - val_loss: 0.2058 - val_accuracy: 0.9599\n",
            "Epoch 20/50\n",
            "393/393 [==============================] - 1s 3ms/step - loss: 0.6088 - accuracy: 0.8042 - val_loss: 0.2160 - val_accuracy: 0.9692\n",
            "Epoch 21/50\n",
            "393/393 [==============================] - 1s 2ms/step - loss: 0.6062 - accuracy: 0.8037 - val_loss: 0.2253 - val_accuracy: 0.9649\n",
            "Epoch 22/50\n",
            "393/393 [==============================] - 1s 2ms/step - loss: 0.5997 - accuracy: 0.8036 - val_loss: 0.2600 - val_accuracy: 0.9427\n",
            "Epoch 23/50\n",
            "393/393 [==============================] - 1s 2ms/step - loss: 0.6015 - accuracy: 0.8074 - val_loss: 0.2314 - val_accuracy: 0.9635\n",
            "Epoch 24/50\n",
            "393/393 [==============================] - 1s 2ms/step - loss: 0.5905 - accuracy: 0.8100 - val_loss: 0.2989 - val_accuracy: 0.9470\n",
            "Epoch 25/50\n",
            "393/393 [==============================] - 1s 2ms/step - loss: 0.5924 - accuracy: 0.8090 - val_loss: 0.2458 - val_accuracy: 0.9563\n",
            "Epoch 26/50\n",
            "393/393 [==============================] - 1s 2ms/step - loss: 0.5945 - accuracy: 0.8085 - val_loss: 0.2090 - val_accuracy: 0.9707\n",
            "Epoch 27/50\n",
            "393/393 [==============================] - 1s 2ms/step - loss: 0.5948 - accuracy: 0.8098 - val_loss: 0.2693 - val_accuracy: 0.9413\n",
            "Epoch 28/50\n",
            "393/393 [==============================] - 1s 2ms/step - loss: 0.5854 - accuracy: 0.8098 - val_loss: 0.2431 - val_accuracy: 0.9563\n",
            "Epoch 29/50\n",
            "393/393 [==============================] - 1s 2ms/step - loss: 0.5867 - accuracy: 0.8115 - val_loss: 0.2301 - val_accuracy: 0.9571\n",
            "Epoch 30/50\n",
            "393/393 [==============================] - 1s 2ms/step - loss: 0.5775 - accuracy: 0.8148 - val_loss: 0.2037 - val_accuracy: 0.9714\n",
            "Epoch 31/50\n",
            "393/393 [==============================] - 1s 3ms/step - loss: 0.5860 - accuracy: 0.8105 - val_loss: 0.2781 - val_accuracy: 0.9477\n",
            "Epoch 32/50\n",
            "393/393 [==============================] - 1s 3ms/step - loss: 0.5813 - accuracy: 0.8114 - val_loss: 0.2377 - val_accuracy: 0.9592\n",
            "Epoch 33/50\n",
            "393/393 [==============================] - 1s 3ms/step - loss: 0.5887 - accuracy: 0.8094 - val_loss: 0.2322 - val_accuracy: 0.9585\n",
            "Epoch 34/50\n",
            "393/393 [==============================] - 1s 2ms/step - loss: 0.5755 - accuracy: 0.8148 - val_loss: 0.2561 - val_accuracy: 0.9528\n",
            "Epoch 35/50\n",
            "393/393 [==============================] - 1s 2ms/step - loss: 0.5886 - accuracy: 0.8136 - val_loss: 0.2583 - val_accuracy: 0.9492\n",
            "Epoch 36/50\n",
            "393/393 [==============================] - 1s 2ms/step - loss: 0.5810 - accuracy: 0.8133 - val_loss: 0.2466 - val_accuracy: 0.9628\n",
            "Epoch 37/50\n",
            "393/393 [==============================] - 1s 2ms/step - loss: 0.5806 - accuracy: 0.8092 - val_loss: 0.2200 - val_accuracy: 0.9757\n",
            "Epoch 38/50\n",
            "393/393 [==============================] - 1s 2ms/step - loss: 0.5798 - accuracy: 0.8118 - val_loss: 0.2142 - val_accuracy: 0.9571\n",
            "Epoch 39/50\n",
            "393/393 [==============================] - 1s 2ms/step - loss: 0.5786 - accuracy: 0.8120 - val_loss: 0.2645 - val_accuracy: 0.9563\n",
            "Epoch 40/50\n",
            "393/393 [==============================] - 1s 2ms/step - loss: 0.5793 - accuracy: 0.8136 - val_loss: 0.2174 - val_accuracy: 0.9635\n",
            "Epoch 41/50\n",
            "393/393 [==============================] - 1s 2ms/step - loss: 0.5732 - accuracy: 0.8133 - val_loss: 0.2101 - val_accuracy: 0.9606\n",
            "Epoch 42/50\n",
            "393/393 [==============================] - 1s 2ms/step - loss: 0.5769 - accuracy: 0.8135 - val_loss: 0.2548 - val_accuracy: 0.9549\n",
            "Epoch 43/50\n",
            "393/393 [==============================] - 1s 2ms/step - loss: 0.5765 - accuracy: 0.8123 - val_loss: 0.2274 - val_accuracy: 0.9671\n",
            "Epoch 44/50\n",
            "393/393 [==============================] - 1s 2ms/step - loss: 0.5704 - accuracy: 0.8155 - val_loss: 0.2651 - val_accuracy: 0.9642\n",
            "Epoch 45/50\n",
            "393/393 [==============================] - 1s 3ms/step - loss: 0.5770 - accuracy: 0.8151 - val_loss: 0.2441 - val_accuracy: 0.9649\n",
            "Epoch 46/50\n",
            "393/393 [==============================] - 1s 3ms/step - loss: 0.5638 - accuracy: 0.8192 - val_loss: 0.2391 - val_accuracy: 0.9549\n",
            "Epoch 47/50\n",
            "393/393 [==============================] - 1s 3ms/step - loss: 0.5727 - accuracy: 0.8163 - val_loss: 0.2776 - val_accuracy: 0.9535\n",
            "Epoch 48/50\n",
            "393/393 [==============================] - 1s 2ms/step - loss: 0.5739 - accuracy: 0.8148 - val_loss: 0.2318 - val_accuracy: 0.9571\n",
            "Epoch 49/50\n",
            "393/393 [==============================] - 1s 2ms/step - loss: 0.5664 - accuracy: 0.8164 - val_loss: 0.2245 - val_accuracy: 0.9571\n",
            "Epoch 50/50\n",
            "393/393 [==============================] - 1s 2ms/step - loss: 0.5751 - accuracy: 0.8125 - val_loss: 0.2238 - val_accuracy: 0.9721\n"
          ]
        },
        {
          "output_type": "execute_result",
          "data": {
            "text/plain": [
              "<keras.callbacks.History at 0x7f0317d21340>"
            ]
          },
          "metadata": {},
          "execution_count": 6
        }
      ]
    },
    {
      "cell_type": "markdown",
      "source": [
        "## Train an SVM model"
      ],
      "metadata": {
        "id": "fnuUQzX0KFpy"
      }
    },
    {
      "cell_type": "code",
      "source": [
        "import pandas as pd\n",
        "from sklearn.model_selection import train_test_split\n",
        "from sklearn.svm import SVC\n",
        "from sklearn.metrics import accuracy_score\n",
        "\n",
        "# Load the CSV file\n",
        "data = pd.read_csv('all_samples.csv')\n",
        "\n",
        "# Split the data into features (X) and target (y)\n",
        "X = data[['b1_ls8', 'b2_ls8', 'b3_ls8','b4_ls8','b5_ls8','b6_ls8','b7_ls8']]\n",
        "y = data['Classvalue']\n",
        "\n",
        "# Split the data into training and testing sets\n",
        "X_train, X_test, y_train, y_test = train_test_split(X, y, test_size=0.1, random_state=42)\n",
        "\n",
        "# Train the SVM model\n",
        "model = SVC(kernel='rbf')\n",
        "model.fit(X_train, y_train)\n",
        "\n",
        "# Make predictions on the testing set\n",
        "y_pred = model.predict(X_test)\n",
        "\n",
        "# Calculate the accuracy of the model\n",
        "accuracy = accuracy_score(y_test, y_pred)\n",
        "print('Accuracy:', accuracy)"
      ],
      "metadata": {
        "colab": {
          "base_uri": "https://localhost:8080/"
        },
        "id": "blDgG6dFKIzO",
        "outputId": "f02c1a9d-d8b3-4274-e55b-1e701c36a45b"
      },
      "execution_count": null,
      "outputs": [
        {
          "output_type": "stream",
          "name": "stdout",
          "text": [
            "Accuracy: 0.8661417322834646\n"
          ]
        }
      ]
    },
    {
      "cell_type": "markdown",
      "source": [
        "## Train a random forest model"
      ],
      "metadata": {
        "id": "ndCRkWS5KzU6"
      }
    },
    {
      "cell_type": "code",
      "source": [
        "import pandas as pd\n",
        "from sklearn.model_selection import train_test_split\n",
        "from sklearn.ensemble import RandomForestClassifier\n",
        "from sklearn.metrics import accuracy_score\n",
        "\n",
        "# Load the CSV file\n",
        "data = pd.read_csv('all_samples.csv')\n",
        "\n",
        "# Split the data into features (X) and target (y)\n",
        "X = data[['b1_ls8', 'b2_ls8', 'b3_ls8','b4_ls8','b5_ls8','b6_ls8','b7_ls8']]\n",
        "y = data['Classvalue']\n",
        "\n",
        "\n",
        "# Split the data into training and testing sets\n",
        "X_train, X_test, y_train, y_test = train_test_split(X, y, test_size=0.1, random_state=42)\n",
        "\n",
        "# Train the Random Forest model\n",
        "model = RandomForestClassifier(n_estimators=500, random_state=42)\n",
        "model.fit(X_train, y_train)\n",
        "\n",
        "# Make predictions on the testing set\n",
        "y_pred = model.predict(X_test)\n",
        "\n",
        "# Calculate the accuracy of the model\n",
        "accuracy = accuracy_score(y_test, y_pred)\n",
        "print('Accuracy:', accuracy)"
      ],
      "metadata": {
        "colab": {
          "base_uri": "https://localhost:8080/"
        },
        "id": "AlAv2U0gLGNY",
        "outputId": "a745b9f3-5d9f-429a-f7b1-89309088e6c6"
      },
      "execution_count": null,
      "outputs": [
        {
          "output_type": "stream",
          "name": "stdout",
          "text": [
            "Accuracy: 0.8869005010737294\n"
          ]
        }
      ]
    },
    {
      "cell_type": "markdown",
      "source": [
        "## Train a maximum likelihood classification model"
      ],
      "metadata": {
        "id": "LX29qfsPLLXT"
      }
    },
    {
      "cell_type": "code",
      "source": [
        "import pandas as pd\n",
        "from sklearn.model_selection import train_test_split\n",
        "from sklearn.naive_bayes import GaussianNB\n",
        "from sklearn.metrics import accuracy_score\n",
        "\n",
        "#  Load the CSV file\n",
        "data = pd.read_csv('all_samples.csv')\n",
        "\n",
        "# Split the data into features (X) and target (y)\n",
        "X = data[['b1_ls8', 'b2_ls8', 'b3_ls8','b4_ls8','b5_ls8','b6_ls8','b7_ls8']]\n",
        "y = data['Classvalue']\n",
        "\n",
        "# Split the data into training and testing sets\n",
        "X_train, X_test, y_train, y_test = train_test_split(X, y, test_size=0.1, random_state=42)\n",
        "\n",
        "# Train the Maximum Likelihood Classification model\n",
        "model = GaussianNB()\n",
        "model.fit(X_train, y_train)\n",
        "\n",
        "# Make predictions on the testing set\n",
        "y_pred = model.predict(X_test)\n",
        "\n",
        "# Calculate the accuracy of the model\n",
        "accuracy = accuracy_score(y_test, y_pred)\n",
        "print('Accuracy:', accuracy)"
      ],
      "metadata": {
        "colab": {
          "base_uri": "https://localhost:8080/"
        },
        "id": "pdIg8g90LKiu",
        "outputId": "ef3fad1c-c174-4b48-d71f-1b20fa3c986e"
      },
      "execution_count": null,
      "outputs": [
        {
          "output_type": "stream",
          "name": "stdout",
          "text": [
            "Accuracy: 0.6628489620615605\n"
          ]
        }
      ]
    }
  ]
}