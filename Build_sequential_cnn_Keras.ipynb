{
  "nbformat": 4,
  "nbformat_minor": 0,
  "metadata": {
    "colab": {
      "provenance": []
    },
    "kernelspec": {
      "name": "python3",
      "display_name": "Python 3"
    },
    "language_info": {
      "name": "python"
    }
  },
  "cells": [
    {
      "cell_type": "code",
      "execution_count": null,
      "metadata": {
        "id": "e-dBO7BtHS3T"
      },
      "outputs": [],
      "source": [
        "import tensorflow as tf\n",
        "from tensorflow import keras\n",
        "from keras.models import Sequential\n",
        "from keras.layers import Conv2D,MaxPooling2D,\\\n",
        "     Dropout,Flatten,Dense,Activation,\\\n",
        "     BatchNormalization\n",
        "from keras.losses import categorical_crossentropy\n",
        "from keras.layers.pooling import MaxPool2D"
      ]
    },
    {
      "cell_type": "code",
      "source": [
        "\n",
        "model = Sequential()\n",
        "model.add(Conv2D(48,(11,11),activation='relu',input_shape=(224,224,3),padding='valid',stride=4))\n",
        "model.add(Conv2D(32,(3,3),activation='relu',padding='same'))\n",
        "#model.add(tf.keras.layers.MaxPooling2D(pool_size=(2, 2)))\n",
        "model.add(Conv2D(64,(3,3),activation='relu',padding='same'))\n",
        "#model.add(tf.keras.layers.MaxPooling2D(pool_size=(2, 2)))\n",
        "model.add(Conv2D(64,(3,3),activation='relu',padding='same'))\n",
        "model.add(Flatten())\n",
        "model.add(Dense(128,activation='relu'))\n",
        "model.add(Dense(10, activation='softmax'))\n"
      ],
      "metadata": {
        "id": "1j0Zl4S9Kgyf"
      },
      "execution_count": null,
      "outputs": []
    },
    {
      "cell_type": "code",
      "source": [
        "model.summary()"
      ],
      "metadata": {
        "id": "0c3n5AW7LIIp",
        "colab": {
          "base_uri": "https://localhost:8080/"
        },
        "outputId": "8dc3c8a4-2520-48ea-e359-dfb4a2e3eecf"
      },
      "execution_count": null,
      "outputs": [
        {
          "output_type": "stream",
          "name": "stdout",
          "text": [
            "Model: \"sequential\"\n",
            "_________________________________________________________________\n",
            " Layer (type)                Output Shape              Param #   \n",
            "=================================================================\n",
            " conv2d (Conv2D)             (None, 21, 21, 64)        6976      \n",
            "                                                                 \n",
            " conv2d_1 (Conv2D)           (None, 21, 21, 32)        18464     \n",
            "                                                                 \n",
            " conv2d_2 (Conv2D)           (None, 21, 21, 64)        18496     \n",
            "                                                                 \n",
            " conv2d_3 (Conv2D)           (None, 21, 21, 64)        36928     \n",
            "                                                                 \n",
            " flatten (Flatten)           (None, 28224)             0         \n",
            "                                                                 \n",
            " dense (Dense)               (None, 128)               3612800   \n",
            "                                                                 \n",
            " dense_1 (Dense)             (None, 10)                1290      \n",
            "                                                                 \n",
            "=================================================================\n",
            "Total params: 3,694,954\n",
            "Trainable params: 3,694,954\n",
            "Non-trainable params: 0\n",
            "_________________________________________________________________\n"
          ]
        }
      ]
    },
    {
      "cell_type": "markdown",
      "source": [
        "# Another way of building the sequential model"
      ],
      "metadata": {
        "id": "cMU9TZeDtnFT"
      }
    },
    {
      "cell_type": "code",
      "source": [
        "i = tf.keras.Input((32,32,6))\n",
        "x = tf.keras.layers.Conv2D(filters=32,kernel_size=(3,3),strides=1,activation='relu',padding='valid')(i)\n",
        "x = tf.keras.layers.MaxPooling2D(pool_size=(2,2),strides=2,padding='same')(x)\n",
        "x = tf.keras.layers.Conv2D(filters=64,kernel_size=(3,3),activation='relu',padding = 'valid')(x)\n",
        "x = tf.keras.layers.MaxPooling2D(pool_size=(2,2),strides=2,padding='same')(x)\n",
        "x = tf.keras.layers.Conv2D(filters=32,kernel_size=(3,3),activation='relu',padding = 'valid')(x)\n",
        "x = tf.keras.layers.MaxPooling2D(pool_size=(2,2),strides=2,padding='same')(x)\n",
        "x = tf.keras.layers.Flatten()(x)\n",
        "x = tf.keras.layers.Dense(128,activation='relu')(x)\n",
        "x = tf.keras.layers.Dense(1,activation='linear')(x)\n",
        "model = tf.keras.Model(inputs=i, outputs=x)"
      ],
      "metadata": {
        "id": "4iIURfx-cnMa"
      },
      "execution_count": null,
      "outputs": []
    },
    {
      "cell_type": "code",
      "source": [
        "!pip install visualkeras"
      ],
      "metadata": {
        "id": "0lOAsUhBcwLk"
      },
      "execution_count": null,
      "outputs": []
    },
    {
      "cell_type": "code",
      "source": [
        "import visualkeras\n",
        "from PIL import ImageFont\n",
        "\n",
        "#font = ImageFont.truetype(\"arial.ttf\", 32)  # using comic sans is strictly prohibited!\n",
        "visualkeras.layered_view(model, legend=True)"
      ],
      "metadata": {
        "colab": {
          "base_uri": "https://localhost:8080/",
          "height": 165
        },
        "id": "gMprYWzncphe",
        "outputId": "673473de-e384-4cda-fc63-132f05ed5f82"
      },
      "execution_count": null,
      "outputs": [
        {
          "output_type": "execute_result",
          "data": {
            "text/plain": [
              "<PIL.Image.Image image mode=RGBA size=618x148 at 0x7F6B8342F6A0>"
            ],
            "image/png": "[encoded data removed]"
          },
          "metadata": {},
          "execution_count": 6
        }
      ]
    }
  ]
}